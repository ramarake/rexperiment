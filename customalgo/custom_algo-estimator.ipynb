{
 "cells": [
  {
   "cell_type": "markdown",
   "metadata": {},
   "source": [
    "# Bring Your Own R Algorithm\n",
    "_**Create a Docker container for training R algorithms and hosting R models**_\n",
    "\n",
    "---\n",
    "\n",
    "---\n",
    "\n",
    "## Contents\n",
    "\n",
    "1. [Background](#Background)\n",
    "1. [Preparation](#Preparation)\n",
    "1. [Code](#Code)\n",
    "  1. [Fit](#Fit)\n",
    "  1. [Serve](#Serve)\n",
    "  1. [Dockerfile](#Dockerfile)\n",
    "  1. [Publish](#Publish)\n",
    "1. [Building The Container](#Building-The-Container)\n",
    "1. [Data](#Data)\n",
    "1. [Train](#Train)\n",
    "1. [Host](#Host)\n",
    "1. [Predict](#Predict)\n",
    "1. [Review And Extensions](#Review-And-Extensions)\n",
    "\n",
    "---\n",
    "## Background\n",
    "\n",
    "R is a popular open source statistical programming language, with a lengthy history in Data Science and Machine Learning.  The breadth of algorithms available as an R package is impressive, which fuels a growing community of users.  The R kernel can be installed into Amazon SageMaker Notebooks, and Docker containers which use R can be used to take advantage of Amazon SageMaker's flexible training and hosting functionality.  This notebook illustrates a simple use case for creating an R container and then using it to train and host a model.  We'll use R in both this notebook and the container - using the [reticulate](https://rstudio.github.io/reticulate/) package to connect with the AWS Python SDKs.\n",
    "\n",
    "---\n",
    "## Preparation\n",
    "\n",
    "_This notebook was created and tested on an ml.t3.medium SageMaker Notebook Instance using the default R kernel._\n",
    "\n",
    "> ⚠️ **Notes for SageMaker Studio Users:**\n",
    ">\n",
    "> - If you don't see an R kernel option available to run this notebook, you can use the step-by-step guide in the [documentation on custom Studio Images](https://docs.aws.amazon.com/sagemaker/latest/dg/studio-byoi.html) with the [sample R image code](https://github.com/aws-samples/sagemaker-studio-custom-image-samples/tree/main/examples/r-image) to create and install one.\n",
    "> - The [docker-build-push.sh](docker-build-push.sh) script used in this notebook uses the `docker` CLI, which is not available from SageMaker Studio notebooks at the time of writing. Instead of using this script, you can set up the [SageMaker Studio Docker Build CLI](https://github.com/aws-samples/sagemaker-studio-image-build-cli) and then use a command like: `sm-docker build . --repository sagemaker-rmars:latest`"
   ]
  },
  {
   "cell_type": "markdown",
   "metadata": {},
   "source": [
    "Let's start by specifying:\n",
    "\n",
    "- The S3 bucket and prefix that you want to use for training and model data.  This should be within the same region as the Notebook Instance, training, and hosting.\n",
    "- The IAM role arn used to give training and hosting access to your data. See the documentation for how to create these.  Note, if more than one role is required for notebook instances, training, and/or hosting, please replace the boto regexp with a the appropriate full IAM role arn string(s)."
   ]
  },
  {
   "cell_type": "code",
   "execution_count": 18,
   "metadata": {},
   "outputs": [],
   "source": [
    "# R Libraries:\n",
    "library(IRdisplay)\n",
    "library(repr)\n",
    "library(reticulate)\n",
    "\n",
    "# Local utilities:\n",
    "source(\"util.R\")\n",
    "\n",
    "# Python Libraries via Reticulate:\n",
    "boto3 <- import(\"boto3\")\n",
    "sagemaker <- import(\"sagemaker\")"
   ]
  },
  {
   "cell_type": "code",
   "execution_count": 19,
   "metadata": {},
   "outputs": [
    {
     "name": "stdout",
     "output_type": "stream",
     "text": [
      "Notebook role: arn:aws:iam::613438712599:role/SageMakerFullAccess"
     ]
    }
   ],
   "source": [
    "# Connect to AWS SDKs:\n",
    "botosess <- boto3$Session()\n",
    "smclient <- boto3$client(\"sagemaker\")\n",
    "\n",
    "# Set up role and bucket:\n",
    "role <- sagemaker$get_execution_role()\n",
    "\n",
    "prefix <- \"byo/demo\"\n",
    "## change it to local or sagemaker\n",
    "training_mode <- 'local'\n",
    "cat('Notebook role:',role)"
   ]
  },
  {
   "cell_type": "code",
   "execution_count": 20,
   "metadata": {},
   "outputs": [],
   "source": [
    "# Change your  S3 bucket e.g 'rakesh-sagemaker-customer'\n",
    "bucket <- 'rakesh-sagemaker-customer'"
   ]
  },
  {
   "cell_type": "code",
   "execution_count": 21,
   "metadata": {},
   "outputs": [
    {
     "data": {
      "text/plain": [
       "<sagemaker.local.local_session.LocalSession>"
      ]
     },
     "metadata": {},
     "output_type": "display_data"
    }
   ],
   "source": [
    "if(\"local\" == training_mode){\n",
    "    # Training mode sagemaker\n",
    "    smsess <- sagemaker$LocalSession(botosess)\n",
    "}else{\n",
    "     # Training mode local\n",
    "    smsess <- sagemaker$Session()\n",
    "}\n",
    "smsess"
   ]
  },
  {
   "cell_type": "markdown",
   "metadata": {},
   "source": [
    "### Permissions\n",
    "\n",
    "Running this notebook requires permissions in addition to the normal `SageMakerFullAccess` permissions. This is because we'll be creating a new repository in Amazon ECR. The easiest way to add these permissions is simply to add the managed policy `AmazonEC2ContainerRegistryFullAccess` to the role that you used to start your notebook instance. There's no need to restart your notebook instance when you do this, the new permissions will be available immediately."
   ]
  },
  {
   "cell_type": "markdown",
   "metadata": {},
   "source": [
    "![SageMakerStructure](image/SageMakerContainerStruct.png)\n",
    "![SageMakerStructure](image/SageMakerPathExplain.png)\n",
    "\n"
   ]
  },
  {
   "cell_type": "markdown",
   "metadata": {},
   "source": [
    "\n",
    "## Code\n",
    "\n",
    "For this example, we'll need 3 supporting code files.\n",
    "\n",
    "### Fit\n",
    "\n",
    "[`mars.R`](mars.R) creates functions to fit and serve our model.  The algorithm we've chosen to use is [Multivariate Adaptive Regression Splines](https://en.wikipedia.org/wiki/Multivariate_adaptive_regression_splines).  This is a suitable example as it's a unique and powerful algorithm, but isn't as broadly used as Amazon SageMaker algorithms, and it isn't available in Python's scikit-learn library.  R's repository of packages is filled with algorithms that share these same criteria. "
   ]
  },
  {
   "cell_type": "markdown",
   "metadata": {},
   "source": [
    "_The top of the code is devoted to setup.  Bringing in the libraries we'll need and setting up the file paths as detailed in Amazon SageMaker documentation on bringing your own container._\n",
    "\n",
    "```R\n",
    "# Bring in library that contains multivariate adaptive regression splines (MARS)\n",
    "library(mda)\n",
    "\n",
    "# Bring in library that allows parsing of JSON training parameters\n",
    "library(jsonlite)\n",
    "\n",
    "# Bring in library for prediction server\n",
    "library(plumber)\n",
    "\n",
    "\n",
    "# Setup parameters\n",
    "# Container directories\n",
    "prefix <- '/opt/ml'\n",
    "input_path <- paste(prefix, 'input/data', sep='/')\n",
    "output_path <- paste(prefix, 'output', sep='/')\n",
    "model_path <- paste(prefix, 'model', sep='/')\n",
    "param_path <- paste(prefix, 'input/config/hyperparameters.json', sep='/')\n",
    "\n",
    "# Channel holding training data\n",
    "channel_name = 'train'\n",
    "training_path <- paste(input_path, channel_name, sep='/')\n",
    "```"
   ]
  },
  {
   "cell_type": "markdown",
   "metadata": {},
   "source": [
    "_Next, we define a train function that actually fits the model to the data.  For the most part this is idiomatic R, with a bit of maneuvering up front to take in parameters from a JSON file, and at the end to output a success indicator._\n",
    "\n",
    "```R\n",
    "\n",
    "# Setup training function\n",
    "train <- function() {\n",
    "    # Read in hyperparameters\n",
    "    training_params <- read_json(param_path)\n",
    "\n",
    "    target <- training_params$target\n",
    "\n",
    "    if (!is.null(training_params$degree)) {\n",
    "        degree <- as.numeric(training_params$degree)\n",
    "    } else {\n",
    "        degree <- 2\n",
    "    }\n",
    "\n",
    "    # Bring in data\n",
    "    training_files = list.files(path=training_path, full.names=TRUE)\n",
    "    training_data = do.call(rbind, lapply(training_files, read.csv))\n",
    "    \n",
    "    # Convert to model matrix\n",
    "    training_X <- model.matrix(~., training_data[, colnames(training_data) != target])\n",
    "\n",
    "    # Save factor levels for scoring\n",
    "    factor_levels <- lapply(\n",
    "        training_data[, sapply(training_data, is.factor), drop=FALSE],\n",
    "        function(x) { levels(x) }\n",
    "    )\n",
    "    \n",
    "    # Run multivariate adaptive regression splines algorithm\n",
    "    model <- mars(x=training_X, y=training_data[, target], degree=degree)\n",
    "    \n",
    "    # Generate outputs\n",
    "    mars_model <- model[!(names(model) %in% c('x', 'residuals', 'fitted.values'))]\n",
    "    attributes(mars_model)$class <- 'mars'\n",
    "    save(mars_model, factor_levels, file=paste(model_path, 'mars_model.RData', sep='/'))\n",
    "    print(summary(mars_model))\n",
    "\n",
    "    write.csv(model$fitted.values, paste(output_path, 'data/fitted_values.csv', sep='/'), row.names=FALSE)\n",
    "    write('success', file=paste(output_path, 'success', sep='/'))\n",
    "}\n",
    "```"
   ]
  },
  {
   "cell_type": "markdown",
   "metadata": {},
   "source": [
    "_Then, we setup the serving function (which is really just a short wrapper around our plumber.R file that we'll discuss [next](#Serve)._\n",
    "\n",
    "```R\n",
    "# Setup scoring function\n",
    "serve <- function() {\n",
    "    app <- plumb(paste(prefix, 'plumber.R', sep='/'))\n",
    "    app$run(host='0.0.0.0', port=8080)\n",
    "}\n",
    "```"
   ]
  },
  {
   "cell_type": "markdown",
   "metadata": {},
   "source": [
    "_Finally, a bit of logic to determine if, based on the options passed when Amazon SageMaker Training or Hosting call this script, we are using the container to train an algorithm or host a model._\n",
    "\n",
    "```R\n",
    "# Run at start-up\n",
    "args <- commandArgs()\n",
    "if (any(grepl('train', args))) {\n",
    "    train()\n",
    "}\n",
    "if (any(grepl('serve', args))) {\n",
    "    serve()\n",
    "}\n",
    "```"
   ]
  },
  {
   "cell_type": "markdown",
   "metadata": {},
   "source": [
    "### Serve\n",
    "[`plumber.R`](plumber.R) uses the [plumber](https://www.rplumber.io/) package to create a lightweight HTTP server for processing requests in hosting.  Note the specific syntax, and see the plumber help docs for additional detail on more specialized use cases."
   ]
  },
  {
   "cell_type": "markdown",
   "metadata": {},
   "source": [
    "Per the Amazon SageMaker documentation, our service needs to accept post requests to ping and invocations.  plumber specifies this with custom comments, followed by functions that take specific arguments.\n",
    "\n",
    "Here invocations does most of the work, ingesting our trained model, handling the HTTP request body, and producing a CSV output of predictions.\n",
    "\n",
    "```R\n",
    "# plumber.R\n",
    "\n",
    "#' Ping to show server is there\n",
    "#' @get /ping\n",
    "function() {\n",
    "    return('')\n",
    "}\n",
    "\n",
    "\n",
    "#' Parse input and return prediction from model\n",
    "#' @param req The http request sent\n",
    "#' @post /invocations\n",
    "function(req) {\n",
    "    # Setup locations\n",
    "    prefix <- '/opt/ml'\n",
    "    model_path <- paste(prefix, 'model', sep='/')\n",
    "\n",
    "    # Bring in model file and factor levels\n",
    "    load(paste(model_path, 'mars_model.RData', sep='/'))\n",
    "\n",
    "    # Read in data\n",
    "    conn <- textConnection(gsub('\\\\\\\\n', '\\n', req$postBody))\n",
    "    data <- read.csv(conn)\n",
    "    close(conn)\n",
    "\n",
    "    # Convert input to model matrix\n",
    "    scoring_X <- model.matrix(~., data, xlev=factor_levels)\n",
    "\n",
    "    # Return prediction\n",
    "    return(paste(predict(mars_model, scoring_X, row.names=FALSE), collapse=','))\n",
    "}\n",
    "```"
   ]
  },
  {
   "cell_type": "markdown",
   "metadata": {},
   "source": [
    "### Dockerfile\n",
    "\n",
    "The [`Dockerfile`](Dockerfile) defines the container to run these scripts in, and keeps it minimal as smaller containers lead to faster spin-up times in training and endpoint creation.  It simply starts with Ubuntu; installs R, mda, and plumber libraries; then adds the `mars.R` and `plumber.R` scripts; and configures `mars.R` as the entry point script to run when the container is launched.\n",
    "\n",
    "```Dockerfile\n",
    "FROM ubuntu:20.04\n",
    "\n",
    "# Don't prompt for tzdata on new versions of Ubuntu:\n",
    "ARG DEBIAN_FRONTEND=noninteractive \n",
    "\n",
    "RUN apt-get -y update && apt-get install -y --no-install-recommends \\\n",
    "    wget \\\n",
    "    libcurl4-openssl-dev\\\n",
    "    libsodium-dev \\\n",
    "    r-base \\\n",
    "    r-base-dev \\\n",
    "    ca-certificates\n",
    "\n",
    "RUN R -e \"install.packages(c('mda', 'plumber'), repos='https://cloud.r-project.org')\"\n",
    "\n",
    "COPY mars.R /opt/ml/mars.R\n",
    "COPY plumber.R /opt/ml/plumber.R\n",
    "\n",
    "ENTRYPOINT [\"/usr/bin/Rscript\", \"/opt/ml/mars.R\", \"--no-save\"]\n",
    "```"
   ]
  },
  {
   "cell_type": "markdown",
   "metadata": {},
   "source": [
    "### Publish\n",
    "\n",
    "For SageMaker to use this container image, it needs to be actually built and published to [Amazon ECR](https://aws.amazon.com/ecr/).\n",
    "\n",
    "In [`docker-build-push.sh`](docker-build-push.sh), we provide a shell script to simplify running this process:\n",
    "\n",
    "```bash\n",
    "#!/bin/bash\n",
    "\n",
    "# The name of our algorithm\n",
    "algorithm_name=sagemaker-rmars\n",
    "\n",
    "set -e # stop if anything fails\n",
    "\n",
    "account=$(aws sts get-caller-identity --query Account --output text)\n",
    "echo \"AWS Account ID $account\"\n",
    "\n",
    "# Get the region defined in the current configuration (default to us-west-2 if none defined)\n",
    "region=$(aws configure get region)\n",
    "region=${region:-us-west-2}\n",
    "echo \"AWS Region $region\"\n",
    "\n",
    "fullname=\"${account}.dkr.ecr.${region}.amazonaws.com/${algorithm_name}:latest\"\n",
    "\n",
    "echo \"Target image URI $fullname\"\n",
    "\n",
    "# If the repository doesn't exist in ECR, create it.\n",
    "\n",
    "echo \"Checking for existing repository...\"\n",
    "set +e\n",
    "aws ecr describe-repositories --repository-names \"${algorithm_name}\"\n",
    "if [ $? -ne 0 ]\n",
    "then\n",
    "    set -e\n",
    "    echo \"Creating repository\"\n",
    "    aws ecr create-repository --repository-name \"${algorithm_name}\"\n",
    "else\n",
    "    set -e\n",
    "fi\n",
    "\n",
    "# Get the login command from ECR and execute it directly\n",
    "$(aws ecr get-login --region ${region} --no-include-email)\n",
    "\n",
    "# Build the docker image locally with the image name and then push it to ECR\n",
    "# with the full name.\n",
    "docker build -t ${algorithm_name} .\n",
    "docker tag ${algorithm_name} ${fullname}\n",
    "\n",
    "docker push ${fullname}\n",
    "```"
   ]
  },
  {
   "cell_type": "markdown",
   "metadata": {},
   "source": [
    "---\n",
    "## Building The Container\n",
    "\n",
    "Run this on terminal to see the output\n",
    "\n",
    "First, we'll build the container image in Amazon ECR.\n",
    "\n",
    "> ⏰ **Note: This command will take several minutes to run the first time, and will not show outputs until it's complete.**\n",
    ">\n",
    "> **If you'd like to see live updates as the command runs, consider running it from a terminal window intsead!**"
   ]
  },
  {
   "cell_type": "code",
   "execution_count": null,
   "metadata": {
    "scrolled": true
   },
   "outputs": [],
   "source": [
    "# Getting the output of terminal calls into the notebook is a little trickier than with Python,\n",
    "# so we made a util.R function based on system2():\n",
    "nbsystem2(\"./docker-build-push.sh\")"
   ]
  },
  {
   "cell_type": "markdown",
   "metadata": {},
   "source": [
    "---\n",
    "## Data\n",
    "For this illustrative example, we'll simply use `iris`.  This a classic, but small, dataset used to test supervised learning algorithms.  Typically the goal is to predict one of three flower species based on various measurements of the flowers' attributes.  Further detail can be found [here](https://en.wikipedia.org/wiki/Iris_flower_data_set).\n",
    "\n",
    "Then let's copy the data to S3."
   ]
  },
  {
   "cell_type": "code",
   "execution_count": null,
   "metadata": {},
   "outputs": [],
   "source": [
    "train_file <- \"traindata/iris.csv\"\n",
    "s3inputpath=smsess$upload_data(\n",
    "    train_file,\n",
    "    bucket=bucket,\n",
    "    key_prefix=paste(prefix, \"train\", sep=\"/\")\n",
    ")\n",
    "s3inputpath"
   ]
  },
  {
   "cell_type": "markdown",
   "metadata": {},
   "source": [
    "_Note: Although we could, we'll avoid doing any preliminary transformations on the data, instead choosing to do those transformations inside the container.  This is not typically the best practice for model efficiency, but provides some benefits in terms of flexibility._"
   ]
  },
  {
   "cell_type": "markdown",
   "metadata": {},
   "source": [
    "---\n",
    "## Train\n",
    "\n",
    "Now, let's setup the information needed to train a Multivariate Adaptive Regression Splines (MARS) model on iris data.  In this case, we'll predict `Sepal.Length` rather than the more typical classification of `Species` to show how factors might be included in a model and limit the case to regression.\n",
    "\n",
    "First, we'll get our region and account information so that we can point to the ECR container we just created."
   ]
  },
  {
   "cell_type": "code",
   "execution_count": null,
   "metadata": {},
   "outputs": [],
   "source": [
    "region <- botosess$region_name\n",
    "account <- boto3$client(\"sts\")$get_caller_identity()$Account"
   ]
  },
  {
   "cell_type": "markdown",
   "metadata": {},
   "source": [
    "\n",
    "- Specify the role to use\n",
    "- Give the training job a name\n",
    "- Point the algorithm to the container we created\n",
    "- Specify training instance resources (in this case our algorithm is only single-threaded so stick to 1 instance)\n",
    "- Point to the S3 location of our input data and the `train` channel expected by our algorithm\n",
    "- Point to the S3 location for output\n",
    "- Provide hyperparamters (keeping it simple)\n",
    "- Maximum run time"
   ]
  },
  {
   "cell_type": "markdown",
   "metadata": {},
   "source": [
    "Define an Amazon SageMaker Estimator, which can train any supplied algorithm that has been containerized with Docker. When creating the Estimator, use the following arguments:\n",
    "\n",
    "    image_name - The container image to use for training\n",
    "    role - The Amazon SageMaker service role\n",
    "    train_instance_count - The number of Amazon EC2 instances to use for training\n",
    "    train_instance_type - The type of Amazon EC2 instance to use for training\n",
    "    train_volume_size - The size in GB of the Amazon Elastic Block Store (Amazon EBS) volume to use for storing input data during training\n",
    "    train_max_run - The timeout in seconds for training\n",
    "    input_mode - The input mode that the algorithm supports\n",
    "    output_path - The Amazon S3 location for saving the training results (model artifacts and output files)\n",
    "    output_kms_key - The AWS Key Management Service (AWS KMS) key for encrypting the training output\n",
    "    base_job_name - The prefix for the name of the training job\n",
    "    sagemaker_session - The Session object that manages interactions with Amazon SageMaker API\n"
   ]
  },
  {
   "cell_type": "code",
   "execution_count": 22,
   "metadata": {},
   "outputs": [
    {
     "data": {
      "text/html": [
       "'613438712599.dkr.ecr.us-east-1.amazonaws.com/sagemaker-rmars:latest'"
      ],
      "text/latex": [
       "'613438712599.dkr.ecr.us-east-1.amazonaws.com/sagemaker-rmars:latest'"
      ],
      "text/markdown": [
       "'613438712599.dkr.ecr.us-east-1.amazonaws.com/sagemaker-rmars:latest'"
      ],
      "text/plain": [
       "[1] \"613438712599.dkr.ecr.us-east-1.amazonaws.com/sagemaker-rmars:latest\""
      ]
     },
     "metadata": {},
     "output_type": "display_data"
    }
   ],
   "source": [
    "container=paste(account, \".dkr.ecr.\", region, \".amazonaws.com/sagemaker-rmars:latest\", sep=\"\")\n",
    "container"
   ]
  },
  {
   "cell_type": "code",
   "execution_count": 23,
   "metadata": {},
   "outputs": [],
   "source": [
    "s3_train_input <- sagemaker$session$s3_input(s3_data = s3inputpath,\n",
    "                                     content_type = 'csv')\n",
    "s3_output <- paste(\"s3:/\", bucket, prefix, \"output\", sep=\"/\")"
   ]
  },
  {
   "cell_type": "code",
   "execution_count": 24,
   "metadata": {},
   "outputs": [
    {
     "data": {
      "text/html": [
       "'local'"
      ],
      "text/latex": [
       "'local'"
      ],
      "text/markdown": [
       "'local'"
      ],
      "text/plain": [
       "[1] \"local\""
      ]
     },
     "metadata": {},
     "output_type": "display_data"
    }
   ],
   "source": [
    "if(\"local\" == training_mode){\n",
    "     instance_training_type =  'local'\n",
    " }else{\n",
    "     instance_training_type =  'ml.m5.large'\n",
    "}\n",
    "instance_training_type"
   ]
  },
  {
   "cell_type": "code",
   "execution_count": 25,
   "metadata": {},
   "outputs": [],
   "source": [
    "estimator <- sagemaker$estimator$Estimator(image_uri= container,\n",
    "                                           role = role,\n",
    "                                           instance_count = 1L,\n",
    "                                           instance_type =  instance_training_type,\n",
    "                                           volume_size = 10L,\n",
    "                                           max_run = 3600L,\n",
    "                                           input_mode = 'File',\n",
    "                                           output_path = s3_output,\n",
    "                                           output_kms_key = NULL,\n",
    "                                           base_job_name = NULL,\n",
    "                                           sagemaker_session = smsess)"
   ]
  },
  {
   "cell_type": "markdown",
   "metadata": {},
   "source": [
    "Now let's kick off our training job on Amazon SageMaker Training, using the parameters we just created. Because training is managed (AWS takes care of spinning up and spinning down the hardware), we don't have to wait for our job to finish to continue, but for this case, let's setup a waiter so we can monitor the status of our training."
   ]
  },
  {
   "cell_type": "code",
   "execution_count": 26,
   "metadata": {},
   "outputs": [
    {
     "data": {
      "text/html": [
       "'Wall clock time elapsed: Time difference of 2.659932 secs'"
      ],
      "text/latex": [
       "'Wall clock time elapsed: Time difference of 2.659932 secs'"
      ],
      "text/markdown": [
       "'Wall clock time elapsed: Time difference of 2.659932 secs'"
      ],
      "text/plain": [
       "[1] \"Wall clock time elapsed: Time difference of 2.659932 secs\""
      ]
     },
     "metadata": {},
     "output_type": "display_data"
    }
   ],
   "source": [
    "tstart <- Sys.time()\n",
    "estimator$set_hyperparameters(target=\"Sepal.Length\",degree=\"2\")\n",
    "job_name <- paste(\"DEMO-r-byo\",training_mode, strftime(Sys.time(), \"%Y-%m-%d-%H-%M-%S\"), sep=\"-\")\n",
    "input_data <- list('train' = s3_train_input)\n",
    "estimator$fit(inputs = input_data,\n",
    "              job_name = job_name)\n",
    "tend <- Sys.time()\n",
    "display(paste(\"Wall clock time elapsed:\", repr(tend - tstart)))"
   ]
  },
  {
   "cell_type": "code",
   "execution_count": 27,
   "metadata": {},
   "outputs": [
    {
     "data": {
      "text/html": [
       "'s3://rakesh-sagemaker-customer/byo/demo/output/DEMO-r-byo-local-2021-04-05-18-13-28/model.tar.gz'"
      ],
      "text/latex": [
       "'s3://rakesh-sagemaker-customer/byo/demo/output/DEMO-r-byo-local-2021-04-05-18-13-28/model.tar.gz'"
      ],
      "text/markdown": [
       "'s3://rakesh-sagemaker-customer/byo/demo/output/DEMO-r-byo-local-2021-04-05-18-13-28/model.tar.gz'"
      ],
      "text/plain": [
       "[1] \"s3://rakesh-sagemaker-customer/byo/demo/output/DEMO-r-byo-local-2021-04-05-18-13-28/model.tar.gz\""
      ]
     },
     "metadata": {},
     "output_type": "display_data"
    }
   ],
   "source": [
    "estimator$model_data"
   ]
  },
  {
   "cell_type": "markdown",
   "metadata": {},
   "source": [
    "---\n",
    "## Host\n",
    "\n",
    "Hosting the model we just trained takes three steps in Amazon SageMaker. "
   ]
  },
  {
   "cell_type": "markdown",
   "metadata": {},
   "source": [
    "For our initial, low-volume testing in this notebook a single `ml.m5.large` should be easily enough."
   ]
  },
  {
   "cell_type": "code",
   "execution_count": 28,
   "metadata": {},
   "outputs": [
    {
     "data": {
      "text/html": [
       "'local'"
      ],
      "text/latex": [
       "'local'"
      ],
      "text/markdown": [
       "'local'"
      ],
      "text/plain": [
       "[1] \"local\""
      ]
     },
     "metadata": {},
     "output_type": "display_data"
    }
   ],
   "source": [
    "if(\"local\" == training_mode){\n",
    "     instance_inference_type =  'local'\n",
    " }else{\n",
    "     instance_inference_type =  'ml.m5.large'\n",
    "}\n",
    "instance_inference_type"
   ]
  },
  {
   "cell_type": "code",
   "execution_count": 29,
   "metadata": {},
   "outputs": [
    {
     "data": {
      "text/html": [
       "'Wall clock time elapsed: Time difference of 0.1850531 secs'"
      ],
      "text/latex": [
       "'Wall clock time elapsed: Time difference of 0.1850531 secs'"
      ],
      "text/markdown": [
       "'Wall clock time elapsed: Time difference of 0.1850531 secs'"
      ],
      "text/plain": [
       "[1] \"Wall clock time elapsed: Time difference of 0.1850531 secs\""
      ]
     },
     "metadata": {},
     "output_type": "display_data"
    }
   ],
   "source": [
    "tstart <- Sys.time()\n",
    "model_endpoint <- estimator$deploy(initial_instance_count = 1L,                                   \n",
    "                                   instance_type = instance_inference_type)\n",
    "tend <- Sys.time()\n",
    "display(paste(\"Wall clock time elapsed:\", repr(tend - tstart)))"
   ]
  },
  {
   "cell_type": "markdown",
   "metadata": {},
   "source": [
    "> ⏰ **Note:** This deployment can take a few minutes to complete\n",
    "\n",
    "---\n",
    "## Predict\n",
    "\n",
    "Once our endpoint is successfully deployed, we can use it to generate real-time predictions.\n",
    "\n",
    "_"
   ]
  },
  {
   "cell_type": "code",
   "execution_count": 30,
   "metadata": {},
   "outputs": [
    {
     "data": {
      "text/plain": [
       "b'[\"5.02506762494687,4.69519702476622,4.76812407406558,4.82019233557525,5.091041744983,5.46602767741009,4.95909350491074,5.01811469568364,4.62922290473009,4.82019233557525,5.21603705579203,5.07713588645654,4.69519702476622,4.51813345244751,5.23689584358171,5.67785589604494,5.22994291431848,5.02506762494687,5.40005355737397,5.28201117582816,5.13615707722945,5.21603705579203,4.85495698189139,5.07018295719332,5.25419945877525,4.81323940631203,5.07713588645654,5.08408881571977,4.95909350491074,4.94518764638428,4.87921352634816,5.01811469568364,5.47993353593655,5.48688646519978,4.82019233557525,4.70910288329267,4.96604643417397,5.091041744983,4.63617583399332,5.01811469568364,4.96604643417397,4.3722793538488,4.76812407406558,5.14311000649267,5.51809593891977,4.69519702476622,5.34103236660106,4.82714526483848,5.21603705579203,4.89311938487461,6.43530104455224,6.20536364075679,6.51437844936356,5.47968692528768,6.035214392773,6.04178683573265,6.41638928564037,5.16685826499774,6.19379128984332,5.38632017943054,5.31576823888827,5.79217370420237,5.6880431736146,6.23737868444386,5.33348794909791,6.09966057516322,6.07341540068454,5.828472280596,5.80951892054002,5.54027765485061,6.37085186594623,5.61163516535994,6.18450784918291,6.25629044335573,5.93570028761969,6.03368645512709,6.26129334752536,6.48041637679869,6.00744128064841,5.31576823888827,5.46196421886225,5.4646782127788,5.532941243068,6.35194609946594,6.07341540068454,6.28715204326887,6.32688398504211,5.82380826158585,5.82961373950674,5.47968692528768,5.87782654818912,6.21346402136235,5.54913900806332,5.16685826499774,5.7177217134729,5.97737925827074,5.84966995354515,5.93570028761969,4.83545673095538,5.69766549943448,6.90855316970696,6.26314995035666,6.83384242977851,6.6613829955204,6.69566038532085,7.58359260325984,5.70919924541965,7.18241444311535,6.55606341244619,7.07900150553456,6.48055549598764,6.36346962547703,6.55310505519921,6.12391711961999,6.10862244263657,6.39087838786923,6.68105572703943,8.00308314041599,7.89133276902724,6.27825508134363,6.65325292279943,6.1117510054986,7.55663698387859,6.14630384505558,6.79686241376104,7.12327960088728,6.10695538580171,6.34422620516397,6.52564586599952,6.81995989259071,6.95095284997422,7.76110373076002,6.5023915295046,6.44492936280371,6.49432822775674,7.02874987848003,6.57205368537436,6.74702984707556,6.23890362587397,6.53789628197588,6.51396827094457,6.23256059638983,6.26314995035666,6.84023467985753,6.56390447986641,6.27102370610808,6.15478471196471,6.43370041933612,6.51073306963037,6.49585017297106\"]'"
      ]
     },
     "metadata": {},
     "output_type": "display_data"
    }
   ],
   "source": [
    "model_endpoint$serializer <- sagemaker$predictor$csv_serializer\n",
    "\n",
    "iris <- read.csv(\"traindata/iris.csv\")\n",
    "\n",
    "to_csv_str <- function(data) {\n",
    "    # (Need to wrap this in a function or the `payload` var will be global and not reusable)\n",
    "    payloadconn <- textConnection(\"payload\", \"w\", local=TRUE)\n",
    "    write.table(\n",
    "        data,\n",
    "        payloadconn,\n",
    "        sep=\",\",\n",
    "        row.names=FALSE\n",
    "    )\n",
    "    return(paste(payload, collapse=\"\\n\"))\n",
    "}\n",
    "test_sample = to_csv_str(iris[, !(names(iris) == \"Sepal.Length\")])\n",
    "predictions <- model_endpoint$predict(test_sample)\n",
    "predictions"
   ]
  },
  {
   "cell_type": "code",
   "execution_count": 31,
   "metadata": {},
   "outputs": [
    {
     "name": "stderr",
     "output_type": "stream",
     "text": [
      "Warning message in xy.coords(x, y, xlabel, ylabel, log):\n",
      "“NAs introduced by coercion”\n"
     ]
    },
    {
     "data": {
      "image/png": "[encoded data removed]",
      "text/plain": [
       "plot without title"
      ]
     },
     "metadata": {
      "image/png": {
       "height": 420,
       "width": 420
      }
     },
     "output_type": "display_data"
    }
   ],
   "source": [
    "plot(\n",
    "    iris[,\"Sepal.Length\"],\n",
    "    as.numeric(unlist(strsplit(toString(predictions),\",\"))),\n",
    "    xlab=\"Actual Sepal Length\",\n",
    "    ylab=\"Predicted Sepal Length\"\n",
    ")"
   ]
  },
  {
   "cell_type": "markdown",
   "metadata": {},
   "source": [
    "---\n",
    "## (Optional) Clean-up\n",
    "\n",
    "Unlike training jobs which start and stop compute infrastructure for defined jobs, SageMaker endpoints are deployed with the resources you configure and remain active until switched off.\n",
    "\n",
    "When you're finished with this notebook, please run the cell below to delete the hosted endpoint you created and prevent ongoing charges."
   ]
  },
  {
   "cell_type": "code",
   "execution_count": 32,
   "metadata": {},
   "outputs": [],
   "source": [
    "smsess$delete_endpoint(model_endpoint$endpoint)"
   ]
  },
  {
   "cell_type": "code",
   "execution_count": null,
   "metadata": {},
   "outputs": [],
   "source": []
  }
 ],
 "metadata": {
  "kernelspec": {
   "display_name": "R",
   "language": "R",
   "name": "ir"
  },
  "language_info": {
   "codemirror_mode": "r",
   "file_extension": ".r",
   "mimetype": "text/x-r-source",
   "name": "R",
   "pygments_lexer": "r",
   "version": "4.0.3"
  },
  "notice": "Copyright 2017 Amazon.com, Inc. or its affiliates. All Rights Reserved.  Licensed under the Apache License, Version 2.0 (the \"License\"). You may not use this file except in compliance with the License. A copy of the License is located at http://aws.amazon.com/apache2.0/ or in the \"license\" file accompanying this file. This file is distributed on an \"AS IS\" BASIS, WITHOUT WARRANTIES OR CONDITIONS OF ANY KIND, either express or implied. See the License for the specific language governing permissions and limitations under the License."
 },
 "nbformat": 4,
 "nbformat_minor": 4
}
