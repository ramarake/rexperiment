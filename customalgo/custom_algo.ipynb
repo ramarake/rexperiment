{
 "cells": [
  {
   "cell_type": "markdown",
   "metadata": {},
   "source": [
    "# Bring Your Own R Algorithm\n",
    "_**Create a Docker container for training R algorithms and hosting R models**_\n",
    "\n",
    "---\n",
    "\n",
    "---\n",
    "\n",
    "## Contents\n",
    "\n",
    "1. [Background](#Background)\n",
    "1. [Preparation](#Preparation)\n",
    "1. [Code](#Code)\n",
    "  1. [Fit](#Fit)\n",
    "  1. [Serve](#Serve)\n",
    "  1. [Dockerfile](#Dockerfile)\n",
    "  1. [Publish](#Publish)\n",
    "1. [Building The Container](#Building-The-Container)\n",
    "1. [Data](#Data)\n",
    "1. [Train](#Train)\n",
    "1. [Host](#Host)\n",
    "1. [Predict](#Predict)\n",
    "1. [Review And Extensions](#Review-And-Extensions)\n",
    "\n",
    "---\n",
    "## Background\n",
    "\n",
    "R is a popular open source statistical programming language, with a lengthy history in Data Science and Machine Learning.  The breadth of algorithms available as an R package is impressive, which fuels a growing community of users.  The R kernel can be installed into Amazon SageMaker Notebooks, and Docker containers which use R can be used to take advantage of Amazon SageMaker's flexible training and hosting functionality.  This notebook illustrates a simple use case for creating an R container and then using it to train and host a model.  We'll use R in both this notebook and the container - using the [reticulate](https://rstudio.github.io/reticulate/) package to connect with the AWS Python SDKs.\n",
    "\n",
    "---\n",
    "## Preparation\n",
    "\n",
    "_This notebook was created and tested on an ml.t3.medium SageMaker Notebook Instance using the default R kernel._\n",
    "\n",
    "> ⚠️ **Notes for SageMaker Studio Users:**\n",
    ">\n",
    "> - If you don't see an R kernel option available to run this notebook, you can use the step-by-step guide in the [documentation on custom Studio Images](https://docs.aws.amazon.com/sagemaker/latest/dg/studio-byoi.html) with the [sample R image code](https://github.com/aws-samples/sagemaker-studio-custom-image-samples/tree/main/examples/r-image) to create and install one.\n",
    "> - The [docker-build-push.sh](docker-build-push.sh) script used in this notebook uses the `docker` CLI, which is not available from SageMaker Studio notebooks at the time of writing. Instead of using this script, you can set up the [SageMaker Studio Docker Build CLI](https://github.com/aws-samples/sagemaker-studio-image-build-cli) and then use a command like: `sm-docker build . --repository sagemaker-rmars:latest`"
   ]
  },
  {
   "cell_type": "markdown",
   "metadata": {},
   "source": [
    "Let's start by specifying:\n",
    "\n",
    "- The S3 bucket and prefix that you want to use for training and model data.  This should be within the same region as the Notebook Instance, training, and hosting.\n",
    "- The IAM role arn used to give training and hosting access to your data. See the documentation for how to create these.  Note, if more than one role is required for notebook instances, training, and/or hosting, please replace the boto regexp with a the appropriate full IAM role arn string(s)."
   ]
  },
  {
   "cell_type": "code",
   "execution_count": 1,
   "metadata": {},
   "outputs": [],
   "source": [
    "# R Libraries:\n",
    "library(IRdisplay)\n",
    "library(repr)\n",
    "library(reticulate)\n",
    "\n",
    "# Local utilities:\n",
    "source(\"util.R\")\n",
    "\n",
    "# Python Libraries via Reticulate:\n",
    "boto3 <- import(\"boto3\")\n",
    "sagemaker <- import(\"sagemaker\")"
   ]
  },
  {
   "cell_type": "code",
   "execution_count": 2,
   "metadata": {},
   "outputs": [
    {
     "name": "stdout",
     "output_type": "stream",
     "text": [
      "Notebook role: arn:aws:iam::613438712599:role/SageMakerFullAccess"
     ]
    }
   ],
   "source": [
    "# Connect to AWS SDKs:\n",
    "botosess <- boto3$Session()\n",
    "smclient <- boto3$client(\"sagemaker\")\n",
    "smsess <- sagemaker$Session()\n",
    "\n",
    "# Set up role and bucket:\n",
    "role <- sagemaker$get_execution_role()\n",
    "bucket <- 'rakesh-sagemaker-customer'\n",
    "prefix <- \"byo/demo\"\n",
    "cat('Notebook role:',role)"
   ]
  },
  {
   "cell_type": "markdown",
   "metadata": {},
   "source": [
    "### Permissions\n",
    "\n",
    "Running this notebook requires permissions in addition to the normal `SageMakerFullAccess` permissions. This is because we'll be creating a new repository in Amazon ECR. The easiest way to add these permissions is simply to add the managed policy `AmazonEC2ContainerRegistryFullAccess` to the role that you used to start your notebook instance. There's no need to restart your notebook instance when you do this, the new permissions will be available immediately."
   ]
  },
  {
   "cell_type": "markdown",
   "metadata": {},
   "source": [
    "![SageMakerStructure](image/SageMakerContainerStruct.png)\n",
    "![SageMakerStructure](image/SageMakerPathExplain.png)\n",
    "\n"
   ]
  },
  {
   "cell_type": "markdown",
   "metadata": {},
   "source": [
    "\n",
    "## Code\n",
    "\n",
    "For this example, we'll need 3 supporting code files.\n",
    "\n",
    "### Fit\n",
    "\n",
    "[`mars.R`](mars.R) creates functions to fit and serve our model.  The algorithm we've chosen to use is [Multivariate Adaptive Regression Splines](https://en.wikipedia.org/wiki/Multivariate_adaptive_regression_splines).  This is a suitable example as it's a unique and powerful algorithm, but isn't as broadly used as Amazon SageMaker algorithms, and it isn't available in Python's scikit-learn library.  R's repository of packages is filled with algorithms that share these same criteria. "
   ]
  },
  {
   "cell_type": "markdown",
   "metadata": {},
   "source": [
    "_The top of the code is devoted to setup.  Bringing in the libraries we'll need and setting up the file paths as detailed in Amazon SageMaker documentation on bringing your own container._\n",
    "\n",
    "```R\n",
    "# Bring in library that contains multivariate adaptive regression splines (MARS)\n",
    "library(mda)\n",
    "\n",
    "# Bring in library that allows parsing of JSON training parameters\n",
    "library(jsonlite)\n",
    "\n",
    "# Bring in library for prediction server\n",
    "library(plumber)\n",
    "\n",
    "\n",
    "# Setup parameters\n",
    "# Container directories\n",
    "prefix <- '/opt/ml'\n",
    "input_path <- paste(prefix, 'input/data', sep='/')\n",
    "output_path <- paste(prefix, 'output', sep='/')\n",
    "model_path <- paste(prefix, 'model', sep='/')\n",
    "param_path <- paste(prefix, 'input/config/hyperparameters.json', sep='/')\n",
    "\n",
    "# Channel holding training data\n",
    "channel_name = 'train'\n",
    "training_path <- paste(input_path, channel_name, sep='/')\n",
    "```"
   ]
  },
  {
   "cell_type": "markdown",
   "metadata": {},
   "source": [
    "_Next, we define a train function that actually fits the model to the data.  For the most part this is idiomatic R, with a bit of maneuvering up front to take in parameters from a JSON file, and at the end to output a success indicator._\n",
    "\n",
    "```R\n",
    "\n",
    "# Setup training function\n",
    "train <- function() {\n",
    "    # Read in hyperparameters\n",
    "    training_params <- read_json(param_path)\n",
    "\n",
    "    target <- training_params$target\n",
    "\n",
    "    if (!is.null(training_params$degree)) {\n",
    "        degree <- as.numeric(training_params$degree)\n",
    "    } else {\n",
    "        degree <- 2\n",
    "    }\n",
    "\n",
    "    # Bring in data\n",
    "    training_files = list.files(path=training_path, full.names=TRUE)\n",
    "    training_data = do.call(rbind, lapply(training_files, read.csv))\n",
    "    \n",
    "    # Convert to model matrix\n",
    "    training_X <- model.matrix(~., training_data[, colnames(training_data) != target])\n",
    "\n",
    "    # Save factor levels for scoring\n",
    "    factor_levels <- lapply(\n",
    "        training_data[, sapply(training_data, is.factor), drop=FALSE],\n",
    "        function(x) { levels(x) }\n",
    "    )\n",
    "    \n",
    "    # Run multivariate adaptive regression splines algorithm\n",
    "    model <- mars(x=training_X, y=training_data[, target], degree=degree)\n",
    "    \n",
    "    # Generate outputs\n",
    "    mars_model <- model[!(names(model) %in% c('x', 'residuals', 'fitted.values'))]\n",
    "    attributes(mars_model)$class <- 'mars'\n",
    "    save(mars_model, factor_levels, file=paste(model_path, 'mars_model.RData', sep='/'))\n",
    "    print(summary(mars_model))\n",
    "\n",
    "    write.csv(model$fitted.values, paste(output_path, 'data/fitted_values.csv', sep='/'), row.names=FALSE)\n",
    "    write('success', file=paste(output_path, 'success', sep='/'))\n",
    "}\n",
    "```"
   ]
  },
  {
   "cell_type": "markdown",
   "metadata": {},
   "source": [
    "_Then, we setup the serving function (which is really just a short wrapper around our plumber.R file that we'll discuss [next](#Serve)._\n",
    "\n",
    "```R\n",
    "# Setup scoring function\n",
    "serve <- function() {\n",
    "    app <- plumb(paste(prefix, 'plumber.R', sep='/'))\n",
    "    app$run(host='0.0.0.0', port=8080)\n",
    "}\n",
    "```"
   ]
  },
  {
   "cell_type": "markdown",
   "metadata": {},
   "source": [
    "_Finally, a bit of logic to determine if, based on the options passed when Amazon SageMaker Training or Hosting call this script, we are using the container to train an algorithm or host a model._\n",
    "\n",
    "```R\n",
    "# Run at start-up\n",
    "args <- commandArgs()\n",
    "if (any(grepl('train', args))) {\n",
    "    train()\n",
    "}\n",
    "if (any(grepl('serve', args))) {\n",
    "    serve()\n",
    "}\n",
    "```"
   ]
  },
  {
   "cell_type": "markdown",
   "metadata": {},
   "source": [
    "### Serve\n",
    "[`plumber.R`](plumber.R) uses the [plumber](https://www.rplumber.io/) package to create a lightweight HTTP server for processing requests in hosting.  Note the specific syntax, and see the plumber help docs for additional detail on more specialized use cases."
   ]
  },
  {
   "cell_type": "markdown",
   "metadata": {},
   "source": [
    "Per the Amazon SageMaker documentation, our service needs to accept post requests to ping and invocations.  plumber specifies this with custom comments, followed by functions that take specific arguments.\n",
    "\n",
    "Here invocations does most of the work, ingesting our trained model, handling the HTTP request body, and producing a CSV output of predictions.\n",
    "\n",
    "```R\n",
    "# plumber.R\n",
    "\n",
    "#' Ping to show server is there\n",
    "#' @get /ping\n",
    "function() {\n",
    "    return('')\n",
    "}\n",
    "\n",
    "\n",
    "#' Parse input and return prediction from model\n",
    "#' @param req The http request sent\n",
    "#' @post /invocations\n",
    "function(req) {\n",
    "    # Setup locations\n",
    "    prefix <- '/opt/ml'\n",
    "    model_path <- paste(prefix, 'model', sep='/')\n",
    "\n",
    "    # Bring in model file and factor levels\n",
    "    load(paste(model_path, 'mars_model.RData', sep='/'))\n",
    "\n",
    "    # Read in data\n",
    "    conn <- textConnection(gsub('\\\\\\\\n', '\\n', req$postBody))\n",
    "    data <- read.csv(conn)\n",
    "    close(conn)\n",
    "\n",
    "    # Convert input to model matrix\n",
    "    scoring_X <- model.matrix(~., data, xlev=factor_levels)\n",
    "\n",
    "    # Return prediction\n",
    "    return(paste(predict(mars_model, scoring_X, row.names=FALSE), collapse=','))\n",
    "}\n",
    "```"
   ]
  },
  {
   "cell_type": "markdown",
   "metadata": {},
   "source": [
    "### Dockerfile\n",
    "\n",
    "The [`Dockerfile`](Dockerfile) defines the container to run these scripts in, and keeps it minimal as smaller containers lead to faster spin-up times in training and endpoint creation.  It simply starts with Ubuntu; installs R, mda, and plumber libraries; then adds the `mars.R` and `plumber.R` scripts; and configures `mars.R` as the entry point script to run when the container is launched.\n",
    "\n",
    "```Dockerfile\n",
    "FROM ubuntu:20.04\n",
    "\n",
    "# Don't prompt for tzdata on new versions of Ubuntu:\n",
    "ARG DEBIAN_FRONTEND=noninteractive \n",
    "\n",
    "RUN apt-get -y update && apt-get install -y --no-install-recommends \\\n",
    "    wget \\\n",
    "    libcurl4-openssl-dev\\\n",
    "    libsodium-dev \\\n",
    "    r-base \\\n",
    "    r-base-dev \\\n",
    "    ca-certificates\n",
    "\n",
    "RUN R -e \"install.packages(c('mda', 'plumber'), repos='https://cloud.r-project.org')\"\n",
    "\n",
    "COPY mars.R /opt/ml/mars.R\n",
    "COPY plumber.R /opt/ml/plumber.R\n",
    "\n",
    "ENTRYPOINT [\"/usr/bin/Rscript\", \"/opt/ml/mars.R\", \"--no-save\"]\n",
    "```"
   ]
  },
  {
   "cell_type": "markdown",
   "metadata": {},
   "source": [
    "### Publish\n",
    "\n",
    "For SageMaker to use this container image, it needs to be actually built and published to [Amazon ECR](https://aws.amazon.com/ecr/).\n",
    "\n",
    "In [`docker-build-push.sh`](docker-build-push.sh), we provide a shell script to simplify running this process:\n",
    "\n",
    "```bash\n",
    "#!/bin/bash\n",
    "\n",
    "# The name of our algorithm\n",
    "algorithm_name=sagemaker-rmars\n",
    "\n",
    "set -e # stop if anything fails\n",
    "\n",
    "account=$(aws sts get-caller-identity --query Account --output text)\n",
    "echo \"AWS Account ID $account\"\n",
    "\n",
    "# Get the region defined in the current configuration (default to us-west-2 if none defined)\n",
    "region=$(aws configure get region)\n",
    "region=${region:-us-west-2}\n",
    "echo \"AWS Region $region\"\n",
    "\n",
    "fullname=\"${account}.dkr.ecr.${region}.amazonaws.com/${algorithm_name}:latest\"\n",
    "\n",
    "echo \"Target image URI $fullname\"\n",
    "\n",
    "# If the repository doesn't exist in ECR, create it.\n",
    "\n",
    "echo \"Checking for existing repository...\"\n",
    "set +e\n",
    "aws ecr describe-repositories --repository-names \"${algorithm_name}\"\n",
    "if [ $? -ne 0 ]\n",
    "then\n",
    "    set -e\n",
    "    echo \"Creating repository\"\n",
    "    aws ecr create-repository --repository-name \"${algorithm_name}\"\n",
    "else\n",
    "    set -e\n",
    "fi\n",
    "\n",
    "# Get the login command from ECR and execute it directly\n",
    "$(aws ecr get-login --region ${region} --no-include-email)\n",
    "\n",
    "# Build the docker image locally with the image name and then push it to ECR\n",
    "# with the full name.\n",
    "docker build -t ${algorithm_name} .\n",
    "docker tag ${algorithm_name} ${fullname}\n",
    "\n",
    "docker push ${fullname}\n",
    "```"
   ]
  },
  {
   "cell_type": "markdown",
   "metadata": {},
   "source": [
    "---\n",
    "## Building The Container\n",
    "\n",
    "Run this on terminal to see the output\n",
    "\n",
    "First, we'll build the container image in Amazon ECR.\n",
    "\n",
    "> ⏰ **Note: This command will take several minutes to run the first time, and will not show outputs until it's complete.**\n",
    ">\n",
    "> **If you'd like to see live updates as the command runs, consider running it from a terminal window intsead!**"
   ]
  },
  {
   "cell_type": "code",
   "execution_count": null,
   "metadata": {
    "scrolled": true
   },
   "outputs": [],
   "source": [
    "# Getting the output of terminal calls into the notebook is a little trickier than with Python,\n",
    "# so we made a util.R function based on system2():\n",
    "nbsystem2(\"./docker-build-push.sh\")"
   ]
  },
  {
   "cell_type": "code",
   "execution_count": 3,
   "metadata": {
    "scrolled": true
   },
   "outputs": [
    {
     "data": {
      "text/html": [
       "<dl>\n",
       "\t<dt>$target</dt>\n",
       "\t\t<dd>'Sepal.Length'</dd>\n",
       "\t<dt>$degree</dt>\n",
       "\t\t<dd>'2'</dd>\n",
       "</dl>\n"
      ],
      "text/latex": [
       "\\begin{description}\n",
       "\\item[\\$target] 'Sepal.Length'\n",
       "\\item[\\$degree] '2'\n",
       "\\end{description}\n"
      ],
      "text/markdown": [
       "$target\n",
       ":   'Sepal.Length'\n",
       "$degree\n",
       ":   '2'\n",
       "\n",
       "\n"
      ],
      "text/plain": [
       "$target\n",
       "[1] \"Sepal.Length\"\n",
       "\n",
       "$degree\n",
       "[1] \"2\"\n"
      ]
     },
     "metadata": {},
     "output_type": "display_data"
    }
   ],
   "source": [
    " HyperParameters=list(\n",
    "        target=\"Sepal.Length\",\n",
    "        degree=\"2\"\n",
    "    )\n",
    "HyperParameters"
   ]
  },
  {
   "cell_type": "markdown",
   "metadata": {},
   "source": [
    "### Train locally on notebook\n",
    "--Still in testing phase--\n",
    "Skip for now\n",
    "\n",
    "Inspect docker image\n",
    "\n",
    "docker inspect sagemaker-rmars\n",
    "\n",
    "1) Duplicated the training data to testdata/input/training\n",
    "\n",
    "2) Copy the R code to testdata\n",
    "\n",
    "   cp *.R testdata/\n",
    "\n",
    "3) Create an  json file testdata/input/config/hyperparameters.json with contents \n",
    "\n",
    "{ \"target\": \"Sepal.Length\", \"degree\": 2}\n",
    "\n",
    "4) Create model directory\n",
    "\n",
    "   mkdir -p testdata/model\n",
    "   \n",
    "   mkdir -p testdata/output/data\n",
    "   \n",
    "\n",
    "4) Check docker image\n",
    "   docker run --rm -it --entrypoint=/bin/bash -v $(pwd)/testdata:/opt/ml sagemaker-rmars\n",
    "   \n",
    "    \n",
    "\n",
    "5) Train it locally\n",
    "\n",
    "   docker run --rm -v $(pwd)/testdata:/opt/ml sagemaker-rmars train\n",
    "\n",
    "   \"train\" command will call program /opt/ml/mars.R with argument train\n",
    "\n",
    "   Training will create the model to directory /opt/ml/model\n",
    "\n",
    "\n",
    "\n"
   ]
  },
  {
   "cell_type": "markdown",
   "metadata": {},
   "source": [
    "### Predict locally on notebook\n",
    "\n",
    "1) docker run --rm -v $(pwd)/testdata:/opt/ml -p 8080:8080 sagemaker-rmars serve\n",
    "\n",
    "   Loading required package: class\n",
    "   Loaded mda 0.5-2\n",
    "\n",
    "   Running plumber API at http://0.0.0.0:8080\n",
    "   Running swagger Docs at http://127.0.0.1:8080/__docs__/\n",
    "\n",
    "2) Test  /ping\n",
    "    \n",
    "    curl http://127.0.0.1:8080/ping\n",
    "    [\"\"]\n",
    "    \n",
    "3) Write test files\n",
    "  iris <- read.csv(\"iris.csv\")\n",
    "\n",
    "\n",
    "\n"
   ]
  },
  {
   "cell_type": "code",
   "execution_count": 26,
   "metadata": {},
   "outputs": [],
   "source": [
    "iris <- read.csv(\"traindata/iris.csv\")\n",
    "\n",
    "\n",
    "to_csv_str <- function(data) {\n",
    "    # (Need to wrap this in a function or the `payload` var will be global and not reusable)\n",
    "    payloadconn <- textConnection(\"payload\", \"w\", local=TRUE)\n",
    "    write.table(\n",
    "        data,\n",
    "        payloadconn,\n",
    "        sep=\",\",\n",
    "        row.names=FALSE\n",
    "    )\n",
    "    return(paste(payload, collapse=\"\\n\"))\n",
    "}\n",
    "\n",
    "data=to_csv_str(iris[, !(names(iris) == \"Sepal.Length\")])\n",
    "\n",
    "write.csv(data, 'testdata/iris.csv', row.names=FALSE)"
   ]
  },
  {
   "cell_type": "markdown",
   "metadata": {},
   "source": [
    "4) Test /invocations\n",
    "\n",
    "curl -X POST -H 'Content-Type: text/csv' -d @localtest/iris.csv http://localhost:8080/invocations"
   ]
  },
  {
   "cell_type": "code",
   "execution_count": null,
   "metadata": {},
   "outputs": [],
   "source": []
  },
  {
   "cell_type": "markdown",
   "metadata": {},
   "source": [
    "---\n",
    "## Data\n",
    "For this illustrative example, we'll simply use `iris`.  This a classic, but small, dataset used to test supervised learning algorithms.  Typically the goal is to predict one of three flower species based on various measurements of the flowers' attributes.  Further detail can be found [here](https://en.wikipedia.org/wiki/Iris_flower_data_set).\n",
    "\n",
    "Then let's copy the data to S3."
   ]
  },
  {
   "cell_type": "code",
   "execution_count": 13,
   "metadata": {},
   "outputs": [
    {
     "data": {
      "text/html": [
       "'s3://rakesh-sagemaker-customer/byo/demo/train/iris.csv'"
      ],
      "text/latex": [
       "'s3://rakesh-sagemaker-customer/byo/demo/train/iris.csv'"
      ],
      "text/markdown": [
       "'s3://rakesh-sagemaker-customer/byo/demo/train/iris.csv'"
      ],
      "text/plain": [
       "[1] \"s3://rakesh-sagemaker-customer/byo/demo/train/iris.csv\""
      ]
     },
     "metadata": {},
     "output_type": "display_data"
    }
   ],
   "source": [
    "train_file <- \"traindata/iris.csv\"\n",
    "smsess$upload_data(\n",
    "    train_file,\n",
    "    bucket=bucket,\n",
    "    key_prefix=paste(prefix, \"train\", sep=\"/\")\n",
    ")"
   ]
  },
  {
   "cell_type": "markdown",
   "metadata": {},
   "source": [
    "_Note: Although we could, we'll avoid doing any preliminary transformations on the data, instead choosing to do those transformations inside the container.  This is not typically the best practice for model efficiency, but provides some benefits in terms of flexibility._"
   ]
  },
  {
   "cell_type": "markdown",
   "metadata": {},
   "source": [
    "---\n",
    "## Train\n",
    "\n",
    "Now, let's setup the information needed to train a Multivariate Adaptive Regression Splines (MARS) model on iris data.  In this case, we'll predict `Sepal.Length` rather than the more typical classification of `Species` to show how factors might be included in a model and limit the case to regression.\n",
    "\n",
    "First, we'll get our region and account information so that we can point to the ECR container we just created."
   ]
  },
  {
   "cell_type": "code",
   "execution_count": 14,
   "metadata": {},
   "outputs": [],
   "source": [
    "region <- botosess$region_name\n",
    "account <- boto3$client(\"sts\")$get_caller_identity()$Account"
   ]
  },
  {
   "cell_type": "markdown",
   "metadata": {},
   "source": [
    "\n",
    "- Specify the role to use\n",
    "- Give the training job a name\n",
    "- Point the algorithm to the container we created\n",
    "- Specify training instance resources (in this case our algorithm is only single-threaded so stick to 1 instance)\n",
    "- Point to the S3 location of our input data and the `train` channel expected by our algorithm\n",
    "- Point to the S3 location for output\n",
    "- Provide hyperparamters (keeping it simple)\n",
    "- Maximum run time"
   ]
  },
  {
   "cell_type": "code",
   "execution_count": 15,
   "metadata": {},
   "outputs": [
    {
     "data": {
      "text/html": [
       "<dl>\n",
       "\t<dt>$TrainingJobArn</dt>\n",
       "\t\t<dd>'arn:aws:sagemaker:us-east-1:613438712599:training-job/demo-r-byo-2021-03-31-23-35-22'</dd>\n",
       "\t<dt>$ResponseMetadata</dt>\n",
       "\t\t<dd><dl>\n",
       "\t<dt>$RequestId</dt>\n",
       "\t\t<dd>'bda31560-89e2-4532-82e3-82dd2a7f2087'</dd>\n",
       "\t<dt>$HTTPStatusCode</dt>\n",
       "\t\t<dd>200</dd>\n",
       "\t<dt>$HTTPHeaders</dt>\n",
       "\t\t<dd><dl>\n",
       "\t<dt>$`x-amzn-requestid`</dt>\n",
       "\t\t<dd>'bda31560-89e2-4532-82e3-82dd2a7f2087'</dd>\n",
       "\t<dt>$`content-type`</dt>\n",
       "\t\t<dd>'application/x-amz-json-1.1'</dd>\n",
       "\t<dt>$`content-length`</dt>\n",
       "\t\t<dd>'105'</dd>\n",
       "\t<dt>$date</dt>\n",
       "\t\t<dd>'Wed, 31 Mar 2021 23:35:22 GMT'</dd>\n",
       "</dl>\n",
       "</dd>\n",
       "\t<dt>$RetryAttempts</dt>\n",
       "\t\t<dd>0</dd>\n",
       "</dl>\n",
       "</dd>\n",
       "</dl>\n"
      ],
      "text/latex": [
       "\\begin{description}\n",
       "\\item[\\$TrainingJobArn] 'arn:aws:sagemaker:us-east-1:613438712599:training-job/demo-r-byo-2021-03-31-23-35-22'\n",
       "\\item[\\$ResponseMetadata] \\begin{description}\n",
       "\\item[\\$RequestId] 'bda31560-89e2-4532-82e3-82dd2a7f2087'\n",
       "\\item[\\$HTTPStatusCode] 200\n",
       "\\item[\\$HTTPHeaders] \\begin{description}\n",
       "\\item[\\$`x-amzn-requestid`] 'bda31560-89e2-4532-82e3-82dd2a7f2087'\n",
       "\\item[\\$`content-type`] 'application/x-amz-json-1.1'\n",
       "\\item[\\$`content-length`] '105'\n",
       "\\item[\\$date] 'Wed, 31 Mar 2021 23:35:22 GMT'\n",
       "\\end{description}\n",
       "\n",
       "\\item[\\$RetryAttempts] 0\n",
       "\\end{description}\n",
       "\n",
       "\\end{description}\n"
      ],
      "text/markdown": [
       "$TrainingJobArn\n",
       ":   'arn:aws:sagemaker:us-east-1:613438712599:training-job/demo-r-byo-2021-03-31-23-35-22'\n",
       "$ResponseMetadata\n",
       ":   $RequestId\n",
       ":   'bda31560-89e2-4532-82e3-82dd2a7f2087'\n",
       "$HTTPStatusCode\n",
       ":   200\n",
       "$HTTPHeaders\n",
       ":   $`x-amzn-requestid`\n",
       ":   'bda31560-89e2-4532-82e3-82dd2a7f2087'\n",
       "$`content-type`\n",
       ":   'application/x-amz-json-1.1'\n",
       "$`content-length`\n",
       ":   '105'\n",
       "$date\n",
       ":   'Wed, 31 Mar 2021 23:35:22 GMT'\n",
       "\n",
       "\n",
       "\n",
       "$RetryAttempts\n",
       ":   0\n",
       "\n",
       "\n",
       "\n",
       "\n",
       "\n"
      ],
      "text/plain": [
       "$TrainingJobArn\n",
       "[1] \"arn:aws:sagemaker:us-east-1:613438712599:training-job/demo-r-byo-2021-03-31-23-35-22\"\n",
       "\n",
       "$ResponseMetadata\n",
       "$ResponseMetadata$RequestId\n",
       "[1] \"bda31560-89e2-4532-82e3-82dd2a7f2087\"\n",
       "\n",
       "$ResponseMetadata$HTTPStatusCode\n",
       "[1] 200\n",
       "\n",
       "$ResponseMetadata$HTTPHeaders\n",
       "$ResponseMetadata$HTTPHeaders$`x-amzn-requestid`\n",
       "[1] \"bda31560-89e2-4532-82e3-82dd2a7f2087\"\n",
       "\n",
       "$ResponseMetadata$HTTPHeaders$`content-type`\n",
       "[1] \"application/x-amz-json-1.1\"\n",
       "\n",
       "$ResponseMetadata$HTTPHeaders$`content-length`\n",
       "[1] \"105\"\n",
       "\n",
       "$ResponseMetadata$HTTPHeaders$date\n",
       "[1] \"Wed, 31 Mar 2021 23:35:22 GMT\"\n",
       "\n",
       "\n",
       "$ResponseMetadata$RetryAttempts\n",
       "[1] 0\n",
       "\n"
      ]
     },
     "metadata": {},
     "output_type": "display_data"
    }
   ],
   "source": [
    "r_job <- paste(\"DEMO-r-byo\", strftime(Sys.time(), \"%Y-%m-%d-%H-%M-%S\"), sep=\"-\")\n",
    "\n",
    "smclient$create_training_job(\n",
    "    RoleArn=role,\n",
    "    TrainingJobName=r_job,\n",
    "    AlgorithmSpecification=list(\n",
    "        TrainingImage=paste(account, \".dkr.ecr.\", region, \".amazonaws.com/sagemaker-rmars:latest\", sep=\"\"),\n",
    "        TrainingInputMode=\"File\"\n",
    "    ),\n",
    "    ResourceConfig=list(\n",
    "        InstanceCount=1L,\n",
    "        InstanceType=\"ml.m4.xlarge\",\n",
    "        VolumeSizeInGB=10L\n",
    "    ),\n",
    "    InputDataConfig=list(\n",
    "        list(\n",
    "            ChannelName=\"train\",\n",
    "            DataSource=list(\n",
    "                S3DataSource=list(\n",
    "                    S3DataType=\"S3Prefix\",\n",
    "                    S3Uri=paste(\"s3:/\", bucket, prefix, \"train\", sep=\"/\"),\n",
    "                    S3DataDistributionType=\"FullyReplicated\"\n",
    "                )\n",
    "            ),\n",
    "            CompressionType=\"None\",\n",
    "            RecordWrapperType=\"None\"\n",
    "        )\n",
    "    ),\n",
    "    OutputDataConfig=list(\n",
    "        S3OutputPath=paste(\"s3:/\", bucket, prefix, \"output\", sep=\"/\")\n",
    "    ),\n",
    "    HyperParameters=list(\n",
    "        target=\"Sepal.Length\",\n",
    "        degree=\"2\"\n",
    "    ),\n",
    "    StoppingCondition=list(\n",
    "        MaxRuntimeInSeconds=60L * 60L\n",
    "    )\n",
    ")\n"
   ]
  },
  {
   "cell_type": "markdown",
   "metadata": {},
   "source": [
    "Now let's kick off our training job on Amazon SageMaker Training, using the parameters we just created.  Because training is managed (AWS takes care of spinning up and spinning down the hardware), we don't have to wait for our job to finish to continue, but for this case, let's setup a waiter so we can monitor the status of our training."
   ]
  },
  {
   "cell_type": "code",
   "execution_count": 16,
   "metadata": {},
   "outputs": [
    {
     "data": {
      "text/html": [
       "'Initial status: InProgress'"
      ],
      "text/latex": [
       "'Initial status: InProgress'"
      ],
      "text/markdown": [
       "'Initial status: InProgress'"
      ],
      "text/plain": [
       "[1] \"Initial status: InProgress\""
      ]
     },
     "metadata": {},
     "output_type": "display_data"
    },
    {
     "data": {
      "text/html": [
       "'Training job ended with status: Completed'"
      ],
      "text/latex": [
       "'Training job ended with status: Completed'"
      ],
      "text/markdown": [
       "'Training job ended with status: Completed'"
      ],
      "text/plain": [
       "[1] \"Training job ended with status: Completed\""
      ]
     },
     "metadata": {},
     "output_type": "display_data"
    },
    {
     "data": {
      "text/html": [
       "'Wall clock time elapsed: Time difference of 4.005992 mins'"
      ],
      "text/latex": [
       "'Wall clock time elapsed: Time difference of 4.005992 mins'"
      ],
      "text/markdown": [
       "'Wall clock time elapsed: Time difference of 4.005992 mins'"
      ],
      "text/plain": [
       "[1] \"Wall clock time elapsed: Time difference of 4.005992 mins\""
      ]
     },
     "metadata": {},
     "output_type": "display_data"
    }
   ],
   "source": [
    "tstart <- Sys.time()\n",
    "\n",
    "status <- smclient$describe_training_job(TrainingJobName=r_job)$TrainingJobStatus\n",
    "display(paste(\"Initial status:\", status))\n",
    "\n",
    "smclient$get_waiter(\"training_job_completed_or_stopped\")$wait(TrainingJobName=r_job)\n",
    "\n",
    "jobdesc <- smclient$describe_training_job(TrainingJobName=r_job)\n",
    "status <- jobdesc$TrainingJobStatus\n",
    "display(paste(\"Training job ended with status:\", status))\n",
    "if (status == \"Failed\") {\n",
    "    message <- jobdesc$FailureReason\n",
    "    display(paste(\"Training failed with the following error:\", message))\n",
    "    stop(\"Training job failed\")\n",
    "}\n",
    "\n",
    "tend <- Sys.time()\n",
    "display(paste(\"Wall clock time elapsed:\", repr(tend - tstart)))"
   ]
  },
  {
   "cell_type": "markdown",
   "metadata": {},
   "source": [
    "---\n",
    "## Host\n",
    "\n",
    "Hosting the model we just trained takes three steps in Amazon SageMaker.  First, we **define the model** we want to host, pointing the service to the model artifact our training job just wrote to S3."
   ]
  },
  {
   "cell_type": "code",
   "execution_count": 17,
   "metadata": {},
   "outputs": [
    {
     "data": {
      "text/html": [
       "'arn:aws:sagemaker:us-east-1:613438712599:model/demo-r-byo-2021-03-31-23-35-22'"
      ],
      "text/latex": [
       "'arn:aws:sagemaker:us-east-1:613438712599:model/demo-r-byo-2021-03-31-23-35-22'"
      ],
      "text/markdown": [
       "'arn:aws:sagemaker:us-east-1:613438712599:model/demo-r-byo-2021-03-31-23-35-22'"
      ],
      "text/plain": [
       "[1] \"arn:aws:sagemaker:us-east-1:613438712599:model/demo-r-byo-2021-03-31-23-35-22\""
      ]
     },
     "metadata": {},
     "output_type": "display_data"
    }
   ],
   "source": [
    "create_model_response <- smclient$create_model(\n",
    "    ModelName=r_job,\n",
    "    ExecutionRoleArn=role,\n",
    "    PrimaryContainer=list(\n",
    "        Image=paste(account, \".dkr.ecr.\", region, \".amazonaws.com/sagemaker-rmars:latest\", sep=\"\"),\n",
    "        ModelDataUrl=jobdesc$ModelArtifacts$S3ModelArtifacts\n",
    "    )\n",
    ")\n",
    "\n",
    "display(create_model_response$ModelArn)"
   ]
  },
  {
   "cell_type": "markdown",
   "metadata": {},
   "source": [
    "Next, we create an **endpoint configuration** which defines the compute infrastructure to be used for inference. For our initial, low-volume testing in this notebook a single `ml.m4.xlarge` should be easily enough."
   ]
  },
  {
   "cell_type": "code",
   "execution_count": 18,
   "metadata": {},
   "outputs": [
    {
     "data": {
      "text/html": [
       "'DEMO-r-byo-config-2021-04-01-00-06-48'"
      ],
      "text/latex": [
       "'DEMO-r-byo-config-2021-04-01-00-06-48'"
      ],
      "text/markdown": [
       "'DEMO-r-byo-config-2021-04-01-00-06-48'"
      ],
      "text/plain": [
       "[1] \"DEMO-r-byo-config-2021-04-01-00-06-48\""
      ]
     },
     "metadata": {},
     "output_type": "display_data"
    },
    {
     "data": {
      "text/html": [
       "'Endpoint Config Arn: arn:aws:sagemaker:us-east-1:613438712599:endpoint-config/demo-r-byo-config-2021-04-01-00-06-48'"
      ],
      "text/latex": [
       "'Endpoint Config Arn: arn:aws:sagemaker:us-east-1:613438712599:endpoint-config/demo-r-byo-config-2021-04-01-00-06-48'"
      ],
      "text/markdown": [
       "'Endpoint Config Arn: arn:aws:sagemaker:us-east-1:613438712599:endpoint-config/demo-r-byo-config-2021-04-01-00-06-48'"
      ],
      "text/plain": [
       "[1] \"Endpoint Config Arn: arn:aws:sagemaker:us-east-1:613438712599:endpoint-config/demo-r-byo-config-2021-04-01-00-06-48\""
      ]
     },
     "metadata": {},
     "output_type": "display_data"
    }
   ],
   "source": [
    "r_endpoint_config <- paste(\"DEMO-r-byo-config\", strftime(Sys.time(), \"%Y-%m-%d-%H-%M-%S\"), sep=\"-\")\n",
    "display(r_endpoint_config)\n",
    "create_endpoint_config_response = smclient$create_endpoint_config(\n",
    "    EndpointConfigName=r_endpoint_config,\n",
    "    ProductionVariants=list(\n",
    "        list(\n",
    "            InstanceType=\"ml.m4.xlarge\",\n",
    "            InitialInstanceCount=1L,\n",
    "            ModelName=r_job,\n",
    "            VariantName=\"AllTraffic\"\n",
    "        )\n",
    "    )\n",
    ")\n",
    "\n",
    "display(paste(\"Endpoint Config Arn:\", create_endpoint_config_response$EndpointConfigArn))"
   ]
  },
  {
   "cell_type": "markdown",
   "metadata": {},
   "source": [
    "Finally, we'll create the **endpoint** itself - starting up the model(s) for inference as described in the endpoint configuration:"
   ]
  },
  {
   "cell_type": "code",
   "execution_count": 19,
   "metadata": {},
   "outputs": [
    {
     "name": "stdout",
     "output_type": "stream",
     "text": [
      "[1] \"DEMO-r-endpoint--2021-04-01-00-06-52\"\n"
     ]
    },
    {
     "data": {
      "text/html": [
       "'arn:aws:sagemaker:us-east-1:613438712599:endpoint/demo-r-endpoint--2021-04-01-00-06-52'"
      ],
      "text/latex": [
       "'arn:aws:sagemaker:us-east-1:613438712599:endpoint/demo-r-endpoint--2021-04-01-00-06-52'"
      ],
      "text/markdown": [
       "'arn:aws:sagemaker:us-east-1:613438712599:endpoint/demo-r-endpoint--2021-04-01-00-06-52'"
      ],
      "text/plain": [
       "[1] \"arn:aws:sagemaker:us-east-1:613438712599:endpoint/demo-r-endpoint--2021-04-01-00-06-52\""
      ]
     },
     "metadata": {},
     "output_type": "display_data"
    },
    {
     "data": {
      "text/html": [
       "'Initial status: Creating'"
      ],
      "text/latex": [
       "'Initial status: Creating'"
      ],
      "text/markdown": [
       "'Initial status: Creating'"
      ],
      "text/plain": [
       "[1] \"Initial status: Creating\""
      ]
     },
     "metadata": {},
     "output_type": "display_data"
    },
    {
     "data": {
      "text/html": [
       "'Arn: arn:aws:sagemaker:us-east-1:613438712599:endpoint/demo-r-endpoint--2021-04-01-00-06-52'"
      ],
      "text/latex": [
       "'Arn: arn:aws:sagemaker:us-east-1:613438712599:endpoint/demo-r-endpoint--2021-04-01-00-06-52'"
      ],
      "text/markdown": [
       "'Arn: arn:aws:sagemaker:us-east-1:613438712599:endpoint/demo-r-endpoint--2021-04-01-00-06-52'"
      ],
      "text/plain": [
       "[1] \"Arn: arn:aws:sagemaker:us-east-1:613438712599:endpoint/demo-r-endpoint--2021-04-01-00-06-52\""
      ]
     },
     "metadata": {},
     "output_type": "display_data"
    },
    {
     "data": {
      "text/html": [
       "'Endpoint deployment ended with status: InService'"
      ],
      "text/latex": [
       "'Endpoint deployment ended with status: InService'"
      ],
      "text/markdown": [
       "'Endpoint deployment ended with status: InService'"
      ],
      "text/plain": [
       "[1] \"Endpoint deployment ended with status: InService\""
      ]
     },
     "metadata": {},
     "output_type": "display_data"
    },
    {
     "data": {
      "text/html": [
       "'Wall clock time elapsed: Time difference of 6.524987 mins'"
      ],
      "text/latex": [
       "'Wall clock time elapsed: Time difference of 6.524987 mins'"
      ],
      "text/markdown": [
       "'Wall clock time elapsed: Time difference of 6.524987 mins'"
      ],
      "text/plain": [
       "[1] \"Wall clock time elapsed: Time difference of 6.524987 mins\""
      ]
     },
     "metadata": {},
     "output_type": "display_data"
    }
   ],
   "source": [
    "tstart <- Sys.time()\n",
    "\n",
    "r_endpoint <- paste(\"DEMO-r-endpoint-\", strftime(Sys.time(), \"%Y-%m-%d-%H-%M-%S\"), sep=\"-\")\n",
    "print(r_endpoint)\n",
    "create_endpoint_response = smclient$create_endpoint(\n",
    "    EndpointName=r_endpoint,\n",
    "    EndpointConfigName=r_endpoint_config\n",
    ")\n",
    "display(create_endpoint_response$EndpointArn)\n",
    "\n",
    "resp = smclient$describe_endpoint(EndpointName=r_endpoint)\n",
    "status = resp$EndpointStatus\n",
    "display(paste(\"Initial status:\", status))\n",
    "\n",
    "tryCatch({\n",
    "    smclient$get_waiter(\"endpoint_in_service\")$wait(EndpointName=r_endpoint)\n",
    "}, finally={\n",
    "    resp <- smclient$describe_endpoint(EndpointName=r_endpoint)\n",
    "    display(paste(\"Arn:\", resp$EndpointArn))\n",
    "    status <- resp$EndpointStatus\n",
    "    display(paste(\"Endpoint deployment ended with status:\", status))\n",
    "\n",
    "    if (status != \"InService\") {\n",
    "        stop(\"Endpoint creation did not succeed\")\n",
    "    }\n",
    "})\n",
    "\n",
    "tend <- Sys.time()\n",
    "display(paste(\"Wall clock time elapsed:\", repr(tend - tstart)))"
   ]
  },
  {
   "cell_type": "markdown",
   "metadata": {},
   "source": [
    "> ⏰ **Note:** This deployment can take a few minutes to complete\n",
    "\n",
    "---\n",
    "## Predict\n",
    "\n",
    "Once our endpoint is successfully deployed, we can use it to generate real-time predictions.\n",
    "\n",
    "_Note: The payload we're passing in the request is a CSV string with a header record, followed by multiple new lines.  It also contains text columns, which the serving code converts to the set of indicator variables needed for our model predictions.  Again, this is not a best practice for highly optimized code, however, it showcases the flexibility of bringing your own algorithm._"
   ]
  },
  {
   "cell_type": "code",
   "execution_count": 22,
   "metadata": {},
   "outputs": [
    {
     "name": "stdout",
     "output_type": "stream",
     "text": [
      "[1] \"\\\"Sepal.Width\\\",\\\"Petal.Length\\\",\\\"Petal.Width\\\",\\\"Species\\\"\\n3.5,1.4,0.2,\\\"setosa\\\"\\n3,1.4,0.2,\\\"setosa\\\"\\n3.2,1.3,0.2,\\\"setosa\\\"\\n3.1,1.5,0.2,\\\"setosa\\\"\\n3.6,1.4,0.2,\\\"setosa\\\"\\n3.9,1.7,0.4,\\\"setosa\\\"\\n3.4,1.4,0.3,\\\"setosa\\\"\\n3.4,1.5,0.2,\\\"setosa\\\"\\n2.9,1.4,0.2,\\\"setosa\\\"\\n3.1,1.5,0.1,\\\"setosa\\\"\\n3.7,1.5,0.2,\\\"setosa\\\"\\n3.4,1.6,0.2,\\\"setosa\\\"\\n3,1.4,0.1,\\\"setosa\\\"\\n3,1.1,0.1,\\\"setosa\\\"\\n4,1.2,0.2,\\\"setosa\\\"\\n4.4,1.5,0.4,\\\"setosa\\\"\\n3.9,1.3,0.4,\\\"setosa\\\"\\n3.5,1.4,0.3,\\\"setosa\\\"\\n3.8,1.7,0.3,\\\"setosa\\\"\\n3.8,1.5,0.3,\\\"setosa\\\"\\n3.4,1.7,0.2,\\\"setosa\\\"\\n3.7,1.5,0.4,\\\"setosa\\\"\\n3.6,1,0.2,\\\"setosa\\\"\\n3.3,1.7,0.5,\\\"setosa\\\"\\n3.4,1.9,0.2,\\\"setosa\\\"\\n3,1.6,0.2,\\\"setosa\\\"\\n3.4,1.6,0.4,\\\"setosa\\\"\\n3.5,1.5,0.2,\\\"setosa\\\"\\n3.4,1.4,0.2,\\\"setosa\\\"\\n3.2,1.6,0.2,\\\"setosa\\\"\\n3.1,1.6,0.2,\\\"setosa\\\"\\n3.4,1.5,0.4,\\\"setosa\\\"\\n4.1,1.5,0.1,\\\"setosa\\\"\\n4.2,1.4,0.2,\\\"setosa\\\"\\n3.1,1.5,0.2,\\\"setosa\\\"\\n3.2,1.2,0.2,\\\"setosa\\\"\\n3.5,1.3,0.2,\\\"setosa\\\"\\n3.6,1.4,0.1,\\\"setosa\\\"\\n3,1.3,0.2,\\\"setosa\\\"\\n3.4,1.5,0.2,\\\"setosa\\\"\\n3.5,1.3,0.3,\\\"setosa\\\"\\n2.3,1.3,0.3,\\\"setosa\\\"\\n3.2,1.3,0.2,\\\"setosa\\\"\\n3.5,1.6,0.6,\\\"setosa\\\"\\n3.8,1.9,0.4,\\\"setosa\\\"\\n3,1.4,0.3,\\\"setosa\\\"\\n3.8,1.6,0.2,\\\"setosa\\\"\\n3.2,1.4,0.2,\\\"setosa\\\"\\n3.7,1.5,0.2,\\\"setosa\\\"\\n3.3,1.4,0.2,\\\"setosa\\\"\\n3.2,4.7,1.4,\\\"versicolor\\\"\\n3.2,4.5,1.5,\\\"versicolor\\\"\\n3.1,4.9,1.5,\\\"versicolor\\\"\\n2.3,4,1.3,\\\"versicolor\\\"\\n2.8,4.6,1.5,\\\"versicolor\\\"\\n2.8,4.5,1.3,\\\"versicolor\\\"\\n3.3,4.7,1.6,\\\"versicolor\\\"\\n2.4,3.3,1,\\\"versicolor\\\"\\n2.9,4.6,1.3,\\\"versicolor\\\"\\n2.7,3.9,1.4,\\\"versicolor\\\"\\n2,3.5,1,\\\"versicolor\\\"\\n3,4.2,1.5,\\\"versicolor\\\"\\n2.2,4,1,\\\"versicolor\\\"\\n2.9,4.7,1.4,\\\"versicolor\\\"\\n2.9,3.6,1.3,\\\"versicolor\\\"\\n3.1,4.4,1.4,\\\"versicolor\\\"\\n3,4.5,1.5,\\\"versicolor\\\"\\n2.7,4.1,1,\\\"versicolor\\\"\\n2.2,4.5,1.5,\\\"versicolor\\\"\\n2.5,3.9,1.1,\\\"versicolor\\\"\\n3.2,4.8,1.8,\\\"versicolor\\\"\\n2.8,4,1.3,\\\"versicolor\\\"\\n2.5,4.9,1.5,\\\"versicolor\\\"\\n2.8,4.7,1.2,\\\"versicolor\\\"\\n2.9,4.3,1.3,\\\"versicolor\\\"\\n3,4.4,1.4,\\\"versicolor\\\"\\n2.8,4.8,1.4,\\\"versicolor\\\"\\n3,5,1.7,\\\"versicolor\\\"\\n2.9,4.5,1.5,\\\"versicolor\\\"\\n2.6,3.5,1,\\\"versicolor\\\"\\n2.4,3.8,1.1,\\\"versicolor\\\"\\n2.4,3.7,1,\\\"versicolor\\\"\\n2.7,3.9,1.2,\\\"versicolor\\\"\\n2.7,5.1,1.6,\\\"versicolor\\\"\\n3,4.5,1.5,\\\"versicolor\\\"\\n3.4,4.5,1.6,\\\"versicolor\\\"\\n3.1,4.7,1.5,\\\"versicolor\\\"\\n2.3,4.4,1.3,\\\"versicolor\\\"\\n3,4.1,1.3,\\\"versicolor\\\"\\n2.5,4,1.3,\\\"versicolor\\\"\\n2.6,4.4,1.2,\\\"versicolor\\\"\\n3,4.6,1.4,\\\"versicolor\\\"\\n2.6,4,1.2,\\\"versicolor\\\"\\n2.3,3.3,1,\\\"versicolor\\\"\\n2.7,4.2,1.3,\\\"versicolor\\\"\\n3,4.2,1.2,\\\"versicolor\\\"\\n2.9,4.2,1.3,\\\"versicolor\\\"\\n2.9,4.3,1.3,\\\"versicolor\\\"\\n2.5,3,1.1,\\\"versicolor\\\"\\n2.8,4.1,1.3,\\\"versicolor\\\"\\n3.3,6,2.5,\\\"virginica\\\"\\n2.7,5.1,1.9,\\\"virginica\\\"\\n3,5.9,2.1,\\\"virginica\\\"\\n2.9,5.6,1.8,\\\"virginica\\\"\\n3,5.8,2.2,\\\"virginica\\\"\\n3,6.6,2.1,\\\"virginica\\\"\\n2.5,4.5,1.7,\\\"virginica\\\"\\n2.9,6.3,1.8,\\\"virginica\\\"\\n2.5,5.8,1.8,\\\"virginica\\\"\\n3.6,6.1,2.5,\\\"virginica\\\"\\n3.2,5.1,2,\\\"virginica\\\"\\n2.7,5.3,1.9,\\\"virginica\\\"\\n3,5.5,2.1,\\\"virginica\\\"\\n2.5,5,2,\\\"virginica\\\"\\n2.8,5.1,2.4,\\\"virginica\\\"\\n3.2,5.3,2.3,\\\"virginica\\\"\\n3,5.5,1.8,\\\"virginica\\\"\\n3.8,6.7,2.2,\\\"virginica\\\"\\n2.6,6.9,2.3,\\\"virginica\\\"\\n2.2,5,1.5,\\\"virginica\\\"\\n3.2,5.7,2.3,\\\"virginica\\\"\\n2.8,4.9,2,\\\"virginica\\\"\\n2.8,6.7,2,\\\"virginica\\\"\\n2.7,4.9,1.8,\\\"virginica\\\"\\n3.3,5.7,2.1,\\\"virginica\\\"\\n3.2,6,1.8,\\\"virginica\\\"\\n2.8,4.8,1.8,\\\"virginica\\\"\\n3,4.9,1.8,\\\"virginica\\\"\\n2.8,5.6,2.1,\\\"virginica\\\"\\n3,5.8,1.6,\\\"virginica\\\"\\n2.8,6.1,1.9,\\\"virginica\\\"\\n3.8,6.4,2,\\\"virginica\\\"\\n2.8,5.6,2.2,\\\"virginica\\\"\\n2.8,5.1,1.5,\\\"virginica\\\"\\n2.6,5.6,1.4,\\\"virginica\\\"\\n3,6.1,2.3,\\\"virginica\\\"\\n3.4,5.6,2.4,\\\"virginica\\\"\\n3.1,5.5,1.8,\\\"virginica\\\"\\n3,4.8,1.8,\\\"virginica\\\"\\n3.1,5.4,2.1,\\\"virginica\\\"\\n3.1,5.6,2.4,\\\"virginica\\\"\\n3.1,5.1,2.3,\\\"virginica\\\"\\n2.7,5.1,1.9,\\\"virginica\\\"\\n3.2,5.9,2.3,\\\"virginica\\\"\\n3.3,5.7,2.5,\\\"virginica\\\"\\n3,5.2,2.3,\\\"virginica\\\"\\n2.5,5,1.9,\\\"virginica\\\"\\n3,5.2,2,\\\"virginica\\\"\\n3.4,5.4,2.3,\\\"virginica\\\"\\n3,5.1,1.8,\\\"virginica\\\"\"\n"
     ]
    },
    {
     "data": {
      "text/html": [
       "'[\"5.02506762494687,4.69519702476622,4.76812407406558,4.82019233557525,5.091041744983,5.46602767741009,4.95909350491074,5.01811469568364,4.62922290473009,4.82019233557525,5.21603705579203,5.07713588645654,4.69519702476622,4.51813345244751,5.23689584358171,5.67785589604494,5.22994291431848,5.02506762494687,5.40005355737397,5.28201117582816,5.13615707722945,5.21603705579203,4.85495698189139,5.07018295719332,5.25419945877525,4.81323940631203,5.07713588645654,5.08408881571977,4.95909350491074,4.94518764638428,4.87921352634816,5.01811469568364,5.47993353593655,5.48688646519978,4.82019233557525,4.70910288329267,4.96604643417397,5.091041744983,4.63617583399332,5.01811469568364,4.96604643417397,4.3722793538488,4.76812407406558,5.14311000649267,5.51809593891977,4.69519702476622,5.34103236660106,4.82714526483848,5.21603705579203,4.89311938487461,6.43530104455224,6.20536364075679,6.51437844936356,5.47968692528768,6.035214392773,6.04178683573265,6.41638928564037,5.16685826499774,6.19379128984332,5.38632017943054,5.31576823888827,5.79217370420237,5.6880431736146,6.23737868444386,5.33348794909791,6.09966057516322,6.07341540068454,5.828472280596,5.80951892054002,5.54027765485061,6.37085186594623,5.61163516535994,6.18450784918291,6.25629044335573,5.93570028761969,6.03368645512709,6.26129334752536,6.48041637679869,6.00744128064841,5.31576823888827,5.46196421886225,5.4646782127788,5.532941243068,6.35194609946594,6.07341540068454,6.28715204326887,6.32688398504211,5.82380826158585,5.82961373950674,5.47968692528768,5.87782654818912,6.21346402136235,5.54913900806332,5.16685826499774,5.7177217134729,5.97737925827074,5.84966995354515,5.93570028761969,4.83545673095538,5.69766549943448,6.90855316970696,6.26314995035666,6.83384242977851,6.6613829955204,6.69566038532085,7.58359260325984,5.70919924541965,7.18241444311535,6.55606341244619,7.07900150553456,6.48055549598764,6.36346962547703,6.55310505519921,6.12391711961999,6.10862244263657,6.39087838786923,6.68105572703943,8.00308314041599,7.89133276902724,6.27825508134363,6.65325292279943,6.1117510054986,7.55663698387859,6.14630384505558,6.79686241376104,7.12327960088728,6.10695538580171,6.34422620516397,6.52564586599952,6.81995989259071,6.95095284997422,7.76110373076002,6.5023915295046,6.44492936280371,6.49432822775674,7.02874987848003,6.57205368537436,6.74702984707556,6.23890362587397,6.53789628197588,6.51396827094457,6.23256059638983,6.26314995035666,6.84023467985753,6.56390447986641,6.27102370610808,6.15478471196471,6.43370041933612,6.51073306963037,6.49585017297106\"]'"
      ],
      "text/latex": [
       "'{[}\"5.02506762494687,4.69519702476622,4.76812407406558,4.82019233557525,5.091041744983,5.46602767741009,4.95909350491074,5.01811469568364,4.62922290473009,4.82019233557525,5.21603705579203,5.07713588645654,4.69519702476622,4.51813345244751,5.23689584358171,5.67785589604494,5.22994291431848,5.02506762494687,5.40005355737397,5.28201117582816,5.13615707722945,5.21603705579203,4.85495698189139,5.07018295719332,5.25419945877525,4.81323940631203,5.07713588645654,5.08408881571977,4.95909350491074,4.94518764638428,4.87921352634816,5.01811469568364,5.47993353593655,5.48688646519978,4.82019233557525,4.70910288329267,4.96604643417397,5.091041744983,4.63617583399332,5.01811469568364,4.96604643417397,4.3722793538488,4.76812407406558,5.14311000649267,5.51809593891977,4.69519702476622,5.34103236660106,4.82714526483848,5.21603705579203,4.89311938487461,6.43530104455224,6.20536364075679,6.51437844936356,5.47968692528768,6.035214392773,6.04178683573265,6.41638928564037,5.16685826499774,6.19379128984332,5.38632017943054,5.31576823888827,5.79217370420237,5.6880431736146,6.23737868444386,5.33348794909791,6.09966057516322,6.07341540068454,5.828472280596,5.80951892054002,5.54027765485061,6.37085186594623,5.61163516535994,6.18450784918291,6.25629044335573,5.93570028761969,6.03368645512709,6.26129334752536,6.48041637679869,6.00744128064841,5.31576823888827,5.46196421886225,5.4646782127788,5.532941243068,6.35194609946594,6.07341540068454,6.28715204326887,6.32688398504211,5.82380826158585,5.82961373950674,5.47968692528768,5.87782654818912,6.21346402136235,5.54913900806332,5.16685826499774,5.7177217134729,5.97737925827074,5.84966995354515,5.93570028761969,4.83545673095538,5.69766549943448,6.90855316970696,6.26314995035666,6.83384242977851,6.6613829955204,6.69566038532085,7.58359260325984,5.70919924541965,7.18241444311535,6.55606341244619,7.07900150553456,6.48055549598764,6.36346962547703,6.55310505519921,6.12391711961999,6.10862244263657,6.39087838786923,6.68105572703943,8.00308314041599,7.89133276902724,6.27825508134363,6.65325292279943,6.1117510054986,7.55663698387859,6.14630384505558,6.79686241376104,7.12327960088728,6.10695538580171,6.34422620516397,6.52564586599952,6.81995989259071,6.95095284997422,7.76110373076002,6.5023915295046,6.44492936280371,6.49432822775674,7.02874987848003,6.57205368537436,6.74702984707556,6.23890362587397,6.53789628197588,6.51396827094457,6.23256059638983,6.26314995035666,6.84023467985753,6.56390447986641,6.27102370610808,6.15478471196471,6.43370041933612,6.51073306963037,6.49585017297106\"{]}'"
      ],
      "text/markdown": [
       "'[\"5.02506762494687,4.69519702476622,4.76812407406558,4.82019233557525,5.091041744983,5.46602767741009,4.95909350491074,5.01811469568364,4.62922290473009,4.82019233557525,5.21603705579203,5.07713588645654,4.69519702476622,4.51813345244751,5.23689584358171,5.67785589604494,5.22994291431848,5.02506762494687,5.40005355737397,5.28201117582816,5.13615707722945,5.21603705579203,4.85495698189139,5.07018295719332,5.25419945877525,4.81323940631203,5.07713588645654,5.08408881571977,4.95909350491074,4.94518764638428,4.87921352634816,5.01811469568364,5.47993353593655,5.48688646519978,4.82019233557525,4.70910288329267,4.96604643417397,5.091041744983,4.63617583399332,5.01811469568364,4.96604643417397,4.3722793538488,4.76812407406558,5.14311000649267,5.51809593891977,4.69519702476622,5.34103236660106,4.82714526483848,5.21603705579203,4.89311938487461,6.43530104455224,6.20536364075679,6.51437844936356,5.47968692528768,6.035214392773,6.04178683573265,6.41638928564037,5.16685826499774,6.19379128984332,5.38632017943054,5.31576823888827,5.79217370420237,5.6880431736146,6.23737868444386,5.33348794909791,6.09966057516322,6.07341540068454,5.828472280596,5.80951892054002,5.54027765485061,6.37085186594623,5.61163516535994,6.18450784918291,6.25629044335573,5.93570028761969,6.03368645512709,6.26129334752536,6.48041637679869,6.00744128064841,5.31576823888827,5.46196421886225,5.4646782127788,5.532941243068,6.35194609946594,6.07341540068454,6.28715204326887,6.32688398504211,5.82380826158585,5.82961373950674,5.47968692528768,5.87782654818912,6.21346402136235,5.54913900806332,5.16685826499774,5.7177217134729,5.97737925827074,5.84966995354515,5.93570028761969,4.83545673095538,5.69766549943448,6.90855316970696,6.26314995035666,6.83384242977851,6.6613829955204,6.69566038532085,7.58359260325984,5.70919924541965,7.18241444311535,6.55606341244619,7.07900150553456,6.48055549598764,6.36346962547703,6.55310505519921,6.12391711961999,6.10862244263657,6.39087838786923,6.68105572703943,8.00308314041599,7.89133276902724,6.27825508134363,6.65325292279943,6.1117510054986,7.55663698387859,6.14630384505558,6.79686241376104,7.12327960088728,6.10695538580171,6.34422620516397,6.52564586599952,6.81995989259071,6.95095284997422,7.76110373076002,6.5023915295046,6.44492936280371,6.49432822775674,7.02874987848003,6.57205368537436,6.74702984707556,6.23890362587397,6.53789628197588,6.51396827094457,6.23256059638983,6.26314995035666,6.84023467985753,6.56390447986641,6.27102370610808,6.15478471196471,6.43370041933612,6.51073306963037,6.49585017297106\"]'"
      ],
      "text/plain": [
       "[1] \"[\\\"5.02506762494687,4.69519702476622,4.76812407406558,4.82019233557525,5.091041744983,5.46602767741009,4.95909350491074,5.01811469568364,4.62922290473009,4.82019233557525,5.21603705579203,5.07713588645654,4.69519702476622,4.51813345244751,5.23689584358171,5.67785589604494,5.22994291431848,5.02506762494687,5.40005355737397,5.28201117582816,5.13615707722945,5.21603705579203,4.85495698189139,5.07018295719332,5.25419945877525,4.81323940631203,5.07713588645654,5.08408881571977,4.95909350491074,4.94518764638428,4.87921352634816,5.01811469568364,5.47993353593655,5.48688646519978,4.82019233557525,4.70910288329267,4.96604643417397,5.091041744983,4.63617583399332,5.01811469568364,4.96604643417397,4.3722793538488,4.76812407406558,5.14311000649267,5.51809593891977,4.69519702476622,5.34103236660106,4.82714526483848,5.21603705579203,4.89311938487461,6.43530104455224,6.20536364075679,6.51437844936356,5.47968692528768,6.035214392773,6.04178683573265,6.41638928564037,5.16685826499774,6.19379128984332,5.38632017943054,5.31576823888827,5.79217370420237,5.6880431736146,6.23737868444386,5.33348794909791,6.09966057516322,6.07341540068454,5.828472280596,5.80951892054002,5.54027765485061,6.37085186594623,5.61163516535994,6.18450784918291,6.25629044335573,5.93570028761969,6.03368645512709,6.26129334752536,6.48041637679869,6.00744128064841,5.31576823888827,5.46196421886225,5.4646782127788,5.532941243068,6.35194609946594,6.07341540068454,6.28715204326887,6.32688398504211,5.82380826158585,5.82961373950674,5.47968692528768,5.87782654818912,6.21346402136235,5.54913900806332,5.16685826499774,5.7177217134729,5.97737925827074,5.84966995354515,5.93570028761969,4.83545673095538,5.69766549943448,6.90855316970696,6.26314995035666,6.83384242977851,6.6613829955204,6.69566038532085,7.58359260325984,5.70919924541965,7.18241444311535,6.55606341244619,7.07900150553456,6.48055549598764,6.36346962547703,6.55310505519921,6.12391711961999,6.10862244263657,6.39087838786923,6.68105572703943,8.00308314041599,7.89133276902724,6.27825508134363,6.65325292279943,6.1117510054986,7.55663698387859,6.14630384505558,6.79686241376104,7.12327960088728,6.10695538580171,6.34422620516397,6.52564586599952,6.81995989259071,6.95095284997422,7.76110373076002,6.5023915295046,6.44492936280371,6.49432822775674,7.02874987848003,6.57205368537436,6.74702984707556,6.23890362587397,6.53789628197588,6.51396827094457,6.23256059638983,6.26314995035666,6.84023467985753,6.56390447986641,6.27102370610808,6.15478471196471,6.43370041933612,6.51073306963037,6.49585017297106\\\"]\""
      ]
     },
     "metadata": {},
     "output_type": "display_data"
    }
   ],
   "source": [
    "iris <- read.csv(\"traindata/iris.csv\")\n",
    "\n",
    "runtime <- botosess$client(\"runtime.sagemaker\")\n",
    "\n",
    "to_csv_str <- function(data) {\n",
    "    # (Need to wrap this in a function or the `payload` var will be global and not reusable)\n",
    "    payloadconn <- textConnection(\"payload\", \"w\", local=TRUE)\n",
    "    write.table(\n",
    "        data,\n",
    "        payloadconn,\n",
    "        sep=\",\",\n",
    "        row.names=FALSE\n",
    "    )\n",
    "    return(paste(payload, collapse=\"\\n\"))\n",
    "}\n",
    "\n",
    "response <- runtime$invoke_endpoint(\n",
    "    EndpointName=r_endpoint,\n",
    "    ContentType=\"text/csv\",\n",
    "    Body=to_csv_str(iris[, !(names(iris) == \"Sepal.Length\")])\n",
    ")\n",
    "\n",
    "result <- response$Body$read()$decode()\n",
    "display(result)"
   ]
  },
  {
   "cell_type": "markdown",
   "metadata": {},
   "source": [
    "We can see the result is a CSV of predictions for our target variable.  Let's compare them to the actuals to see how our model did."
   ]
  },
  {
   "cell_type": "code",
   "execution_count": 21,
   "metadata": {},
   "outputs": [
    {
     "data": {
      "image/png": "[encoded data removed]",
      "text/plain": [
       "plot without title"
      ]
     },
     "metadata": {
      "image/png": {
       "height": 420,
       "width": 420
      }
     },
     "output_type": "display_data"
    }
   ],
   "source": [
    "parsed <- jsonlite::fromJSON(result)\n",
    "\n",
    "plot(\n",
    "    iris[,\"Sepal.Length\"],\n",
    "    as.numeric(unlist(strsplit(parsed, \",\"))),\n",
    "    xlab=\"Actual Sepal Length\",\n",
    "    ylab=\"Predicted Sepal Length\"\n",
    ")"
   ]
  },
  {
   "cell_type": "markdown",
   "metadata": {},
   "source": [
    "---\n",
    "## Review And Extensions\n",
    "\n",
    "In this notebook we demonstrated a straightforward example to train and host an R algorithm in Amazon SageMaker - allowing us to separately specify the compute infrastructure required for the training job and online inference, and so optimize costs.\n",
    "\n",
    "Because the \"SageMaker Model\" is defined by the combination of the container image we built and the `model.tar.gz` archive of artifacts the training job saves to Amazon S3, the process is very flexible. We could, for example:\n",
    "\n",
    "- Train the algorithm entirely within a notebook (or somewhere else) and use SageMaker only for deploying the inference/serving endpoint, or\n",
    "- Train the algorithm on SageMaker, but then download the result from Amazon S3 to run inference in a notebook or some other environment, or\n",
    "- Easily scale out our SageMaker inference capacity by increasing the number (or size) of instances specified in the endpoint configuration, and\n",
    "- Build algorithms using any libraries/packages we have access to and save model parameters in whatever formats we like.\n",
    "\n",
    "Although R is not the easiest language to build distributed applications on top of, it is possible and by adapting the script you could also utilize multiple training job instances: For example to train multiple sub-models or conduct a custom parameter search in parallel.\n",
    "\n",
    "This core workflow example has only scratched the surface of the functionality offered by the SageMaker platform. For example:\n",
    "\n",
    "- By modifying the training script to accept (hyper)-parameters and print accuracy metrics to the console, you could take advantage of SageMaker's efficient Bayesian [Hyperparameter tuning](https://docs.aws.amazon.com/sagemaker/latest/dg/automatic-model-tuning-how-it-works.html) - instead of manually tuning models.\n",
    "- If your use case requires generating predictions in batch, rather than deploying endpoints to query in real-time, you could instead use [SageMaker Batch Transform](https://docs.aws.amazon.com/sagemaker/latest/dg/batch-transform.html) without needing to change any model/container code.\n"
   ]
  },
  {
   "cell_type": "markdown",
   "metadata": {},
   "source": [
    "---\n",
    "## (Optional) Clean-up\n",
    "\n",
    "Unlike training jobs which start and stop compute infrastructure for defined jobs, SageMaker endpoints are deployed with the resources you configure and remain active until switched off.\n",
    "\n",
    "When you're finished with this notebook, please run the cell below to delete the hosted endpoint you created and prevent ongoing charges."
   ]
  },
  {
   "cell_type": "code",
   "execution_count": 24,
   "metadata": {},
   "outputs": [
    {
     "data": {
      "text/html": [
       "<strong>$ResponseMetadata</strong> = <dl>\n",
       "\t<dt>$RequestId</dt>\n",
       "\t\t<dd>'c604ddad-41aa-48fb-aa16-a773c87ec302'</dd>\n",
       "\t<dt>$HTTPStatusCode</dt>\n",
       "\t\t<dd>200</dd>\n",
       "\t<dt>$HTTPHeaders</dt>\n",
       "\t\t<dd><dl>\n",
       "\t<dt>$`x-amzn-requestid`</dt>\n",
       "\t\t<dd>'c604ddad-41aa-48fb-aa16-a773c87ec302'</dd>\n",
       "\t<dt>$`content-type`</dt>\n",
       "\t\t<dd>'application/x-amz-json-1.1'</dd>\n",
       "\t<dt>$`content-length`</dt>\n",
       "\t\t<dd>'0'</dd>\n",
       "\t<dt>$date</dt>\n",
       "\t\t<dd>'Thu, 01 Apr 2021 00:22:21 GMT'</dd>\n",
       "</dl>\n",
       "</dd>\n",
       "\t<dt>$RetryAttempts</dt>\n",
       "\t\t<dd>0</dd>\n",
       "</dl>\n"
      ],
      "text/latex": [
       "\\textbf{\\$ResponseMetadata} = \\begin{description}\n",
       "\\item[\\$RequestId] 'c604ddad-41aa-48fb-aa16-a773c87ec302'\n",
       "\\item[\\$HTTPStatusCode] 200\n",
       "\\item[\\$HTTPHeaders] \\begin{description}\n",
       "\\item[\\$`x-amzn-requestid`] 'c604ddad-41aa-48fb-aa16-a773c87ec302'\n",
       "\\item[\\$`content-type`] 'application/x-amz-json-1.1'\n",
       "\\item[\\$`content-length`] '0'\n",
       "\\item[\\$date] 'Thu, 01 Apr 2021 00:22:21 GMT'\n",
       "\\end{description}\n",
       "\n",
       "\\item[\\$RetryAttempts] 0\n",
       "\\end{description}\n"
      ],
      "text/markdown": [
       "**$ResponseMetadata** = $RequestId\n",
       ":   'c604ddad-41aa-48fb-aa16-a773c87ec302'\n",
       "$HTTPStatusCode\n",
       ":   200\n",
       "$HTTPHeaders\n",
       ":   $`x-amzn-requestid`\n",
       ":   'c604ddad-41aa-48fb-aa16-a773c87ec302'\n",
       "$`content-type`\n",
       ":   'application/x-amz-json-1.1'\n",
       "$`content-length`\n",
       ":   '0'\n",
       "$date\n",
       ":   'Thu, 01 Apr 2021 00:22:21 GMT'\n",
       "\n",
       "\n",
       "\n",
       "$RetryAttempts\n",
       ":   0\n",
       "\n",
       "\n"
      ],
      "text/plain": [
       "$ResponseMetadata\n",
       "$ResponseMetadata$RequestId\n",
       "[1] \"c604ddad-41aa-48fb-aa16-a773c87ec302\"\n",
       "\n",
       "$ResponseMetadata$HTTPStatusCode\n",
       "[1] 200\n",
       "\n",
       "$ResponseMetadata$HTTPHeaders\n",
       "$ResponseMetadata$HTTPHeaders$`x-amzn-requestid`\n",
       "[1] \"c604ddad-41aa-48fb-aa16-a773c87ec302\"\n",
       "\n",
       "$ResponseMetadata$HTTPHeaders$`content-type`\n",
       "[1] \"application/x-amz-json-1.1\"\n",
       "\n",
       "$ResponseMetadata$HTTPHeaders$`content-length`\n",
       "[1] \"0\"\n",
       "\n",
       "$ResponseMetadata$HTTPHeaders$date\n",
       "[1] \"Thu, 01 Apr 2021 00:22:21 GMT\"\n",
       "\n",
       "\n",
       "$ResponseMetadata$RetryAttempts\n",
       "[1] 0\n",
       "\n"
      ]
     },
     "metadata": {},
     "output_type": "display_data"
    }
   ],
   "source": [
    "smclient$delete_endpoint(EndpointName=r_endpoint)"
   ]
  },
  {
   "cell_type": "code",
   "execution_count": null,
   "metadata": {},
   "outputs": [],
   "source": []
  }
 ],
 "metadata": {
  "kernelspec": {
   "display_name": "R",
   "language": "R",
   "name": "ir"
  },
  "language_info": {
   "codemirror_mode": "r",
   "file_extension": ".r",
   "mimetype": "text/x-r-source",
   "name": "R",
   "pygments_lexer": "r",
   "version": "4.0.3"
  },
  "notice": "Copyright 2017 Amazon.com, Inc. or its affiliates. All Rights Reserved.  Licensed under the Apache License, Version 2.0 (the \"License\"). You may not use this file except in compliance with the License. A copy of the License is located at http://aws.amazon.com/apache2.0/ or in the \"license\" file accompanying this file. This file is distributed on an \"AS IS\" BASIS, WITHOUT WARRANTIES OR CONDITIONS OF ANY KIND, either express or implied. See the License for the specific language governing permissions and limitations under the License."
 },
 "nbformat": 4,
 "nbformat_minor": 4
}
